{
 "cells": [
  {
   "cell_type": "markdown",
   "id": "58821308",
   "metadata": {},
   "source": [
    "**Computational Linear Algebra for Large Scale Problems**\n",
    "\n",
    "**Principal Component Analysis (HW_PCA)**\n",
    "\n",
    "**Fatemeh Ahmadvand**\n",
    "\n",
    "**Student Number: s301384**\n",
    "\n",
    "**Email:  fatemeh.ahmadvand@studenti.polito.it**"
   ]
  },
  {
   "cell_type": "markdown",
   "id": "031dbb0c",
   "metadata": {},
   "source": [
    "# Introduction:\n",
    "\n",
    "In this project, I aim to use the Principal Component Analysis (PCA) to reduce the dimensionality of the problem on the following dataset \"*cla4lsp_bikez_curated.csv*\". Next, I applied the k-Means algorithm to find the significant motorcycle clusters."
   ]
  },
  {
   "cell_type": "markdown",
   "id": "17f85d4f",
   "metadata": {},
   "source": [
    "# Import libraries"
   ]
  },
  {
   "cell_type": "markdown",
   "id": "a2d76de3",
   "metadata": {},
   "source": [
    "First of all, I start with the importation of the modules."
   ]
  },
  {
   "cell_type": "code",
   "execution_count": 1,
   "id": "9820e897",
   "metadata": {
    "scrolled": true
   },
   "outputs": [],
   "source": [
    "import seaborn as sns\n",
    "import pandas as pd \n",
    "import numpy as np\n",
    "import matplotlib.pyplot as plt"
   ]
  },
  {
   "cell_type": "markdown",
   "id": "1c5eecd8",
   "metadata": {},
   "source": [
    "# Preparation (Setting the Random State)\n",
    "## Set a seed for random  function"
   ]
  },
  {
   "cell_type": "markdown",
   "id": "73a3afc9",
   "metadata": {},
   "source": [
    "Before starting with the exercises, I initialize a random state variable **_rs_** equal to my ID student number.\n",
    "\n",
    "I use the random state **_rs_** to set the **_numpy random seed_** at the beginning of the code and in every python functions I call during the exercises (if a random procedure is used).\n",
    "\n",
    "\\begin{align}\n",
    "numpy.random.seed(rs)\n",
    "\\end{align}"
   ]
  },
  {
   "cell_type": "code",
   "execution_count": 2,
   "id": "a2dd01b7",
   "metadata": {
    "scrolled": true
   },
   "outputs": [],
   "source": [
    "student_number = 301384\n",
    "rs = student_number\n",
    "np.random.seed(rs)"
   ]
  },
  {
   "cell_type": "markdown",
   "id": "de61f96d",
   "metadata": {},
   "source": [
    "# Exercise 1 (Loading and Preparing the Dataset)\n",
    "\n",
    "I load the dataset **_\"cla4lsp_bikez_curated.csv\"_** as a pandas DataFrame.The dataset used in this homework is a preprocessed and cleansed version of a dataset extracted from *bikez.com on April 30th 2022*, using a custom scraper in order to enrich an existing used motorcycle dataset for a hackathon competition."
   ]
  },
  {
   "cell_type": "markdown",
   "id": "8db44e5d",
   "metadata": {},
   "source": [
    "**(a)**\n",
    "\n",
    "After loading the dataset, I store it in the variable **df_tot** the DataFrame obtained from the csv file."
   ]
  },
  {
   "cell_type": "code",
   "execution_count": 3,
   "id": "014abc26",
   "metadata": {
    "scrolled": true
   },
   "outputs": [
    {
     "data": {
      "text/html": [
       "<div>\n",
       "<style scoped>\n",
       "    .dataframe tbody tr th:only-of-type {\n",
       "        vertical-align: middle;\n",
       "    }\n",
       "\n",
       "    .dataframe tbody tr th {\n",
       "        vertical-align: top;\n",
       "    }\n",
       "\n",
       "    .dataframe thead th {\n",
       "        text-align: right;\n",
       "    }\n",
       "</style>\n",
       "<table border=\"1\" class=\"dataframe\">\n",
       "  <thead>\n",
       "    <tr style=\"text-align: right;\">\n",
       "      <th></th>\n",
       "      <th>Brand</th>\n",
       "      <th>Model</th>\n",
       "      <th>Year</th>\n",
       "      <th>Category</th>\n",
       "      <th>Rating</th>\n",
       "      <th>Displacement (ccm)</th>\n",
       "      <th>Power (hp)</th>\n",
       "      <th>Torque (Nm)</th>\n",
       "      <th>Engine cylinder</th>\n",
       "      <th>Engine stroke</th>\n",
       "      <th>...</th>\n",
       "      <th>Dry weight (kg)</th>\n",
       "      <th>Wheelbase (mm)</th>\n",
       "      <th>Seat height (mm)</th>\n",
       "      <th>Fuel system</th>\n",
       "      <th>Front brakes</th>\n",
       "      <th>Rear brakes</th>\n",
       "      <th>Front tire</th>\n",
       "      <th>Rear tire</th>\n",
       "      <th>Front suspension</th>\n",
       "      <th>Rear suspension</th>\n",
       "    </tr>\n",
       "  </thead>\n",
       "  <tbody>\n",
       "    <tr>\n",
       "      <th>0</th>\n",
       "      <td>acabion</td>\n",
       "      <td>da vinci 650-vi</td>\n",
       "      <td>2011</td>\n",
       "      <td>Prototype / concept model</td>\n",
       "      <td>3.2</td>\n",
       "      <td>NaN</td>\n",
       "      <td>804.0</td>\n",
       "      <td>NaN</td>\n",
       "      <td>Electric</td>\n",
       "      <td>Electric</td>\n",
       "      <td>...</td>\n",
       "      <td>420.0</td>\n",
       "      <td>NaN</td>\n",
       "      <td>NaN</td>\n",
       "      <td>not given/unknown</td>\n",
       "      <td>single disc</td>\n",
       "      <td>single disc</td>\n",
       "      <td>other</td>\n",
       "      <td>other</td>\n",
       "      <td>not given/unknown</td>\n",
       "      <td>not given/unknown</td>\n",
       "    </tr>\n",
       "    <tr>\n",
       "      <th>1</th>\n",
       "      <td>acabion</td>\n",
       "      <td>gtbo 55</td>\n",
       "      <td>2007</td>\n",
       "      <td>Sport</td>\n",
       "      <td>2.6</td>\n",
       "      <td>1300.0</td>\n",
       "      <td>541.0</td>\n",
       "      <td>420.0</td>\n",
       "      <td>In-line four</td>\n",
       "      <td>four-stroke</td>\n",
       "      <td>...</td>\n",
       "      <td>360.0</td>\n",
       "      <td>NaN</td>\n",
       "      <td>NaN</td>\n",
       "      <td>other</td>\n",
       "      <td>not given/unknown</td>\n",
       "      <td>not given/unknown</td>\n",
       "      <td>other</td>\n",
       "      <td>other</td>\n",
       "      <td>not given/unknown</td>\n",
       "      <td>not given/unknown</td>\n",
       "    </tr>\n",
       "    <tr>\n",
       "      <th>2</th>\n",
       "      <td>acabion</td>\n",
       "      <td>gtbo 600 daytona-vi</td>\n",
       "      <td>2011</td>\n",
       "      <td>Prototype / concept model</td>\n",
       "      <td>3.5</td>\n",
       "      <td>NaN</td>\n",
       "      <td>536.0</td>\n",
       "      <td>NaN</td>\n",
       "      <td>Electric</td>\n",
       "      <td>Electric</td>\n",
       "      <td>...</td>\n",
       "      <td>420.0</td>\n",
       "      <td>NaN</td>\n",
       "      <td>NaN</td>\n",
       "      <td>not given/unknown</td>\n",
       "      <td>single disc</td>\n",
       "      <td>single disc</td>\n",
       "      <td>other</td>\n",
       "      <td>other</td>\n",
       "      <td>not given/unknown</td>\n",
       "      <td>not given/unknown</td>\n",
       "    </tr>\n",
       "    <tr>\n",
       "      <th>3</th>\n",
       "      <td>acabion</td>\n",
       "      <td>gtbo 600 daytona-vi</td>\n",
       "      <td>2021</td>\n",
       "      <td>Prototype / concept model</td>\n",
       "      <td>NaN</td>\n",
       "      <td>NaN</td>\n",
       "      <td>536.0</td>\n",
       "      <td>NaN</td>\n",
       "      <td>Electric</td>\n",
       "      <td>Electric</td>\n",
       "      <td>...</td>\n",
       "      <td>420.0</td>\n",
       "      <td>NaN</td>\n",
       "      <td>NaN</td>\n",
       "      <td>not given/unknown</td>\n",
       "      <td>single disc</td>\n",
       "      <td>single disc</td>\n",
       "      <td>other</td>\n",
       "      <td>other</td>\n",
       "      <td>not given/unknown</td>\n",
       "      <td>not given/unknown</td>\n",
       "    </tr>\n",
       "    <tr>\n",
       "      <th>4</th>\n",
       "      <td>acabion</td>\n",
       "      <td>gtbo 70</td>\n",
       "      <td>2007</td>\n",
       "      <td>Prototype / concept model</td>\n",
       "      <td>3.1</td>\n",
       "      <td>1300.0</td>\n",
       "      <td>689.0</td>\n",
       "      <td>490.0</td>\n",
       "      <td>In-line four</td>\n",
       "      <td>four-stroke</td>\n",
       "      <td>...</td>\n",
       "      <td>300.0</td>\n",
       "      <td>NaN</td>\n",
       "      <td>NaN</td>\n",
       "      <td>other</td>\n",
       "      <td>not given/unknown</td>\n",
       "      <td>not given/unknown</td>\n",
       "      <td>other</td>\n",
       "      <td>other</td>\n",
       "      <td>not given/unknown</td>\n",
       "      <td>not given/unknown</td>\n",
       "    </tr>\n",
       "    <tr>\n",
       "      <th>...</th>\n",
       "      <td>...</td>\n",
       "      <td>...</td>\n",
       "      <td>...</td>\n",
       "      <td>...</td>\n",
       "      <td>...</td>\n",
       "      <td>...</td>\n",
       "      <td>...</td>\n",
       "      <td>...</td>\n",
       "      <td>...</td>\n",
       "      <td>...</td>\n",
       "      <td>...</td>\n",
       "      <td>...</td>\n",
       "      <td>...</td>\n",
       "      <td>...</td>\n",
       "      <td>...</td>\n",
       "      <td>...</td>\n",
       "      <td>...</td>\n",
       "      <td>...</td>\n",
       "      <td>...</td>\n",
       "      <td>...</td>\n",
       "      <td>...</td>\n",
       "    </tr>\n",
       "    <tr>\n",
       "      <th>38467</th>\n",
       "      <td>zÃ¼ndapp</td>\n",
       "      <td>z 22</td>\n",
       "      <td>1924</td>\n",
       "      <td>Sport</td>\n",
       "      <td>NaN</td>\n",
       "      <td>211.0</td>\n",
       "      <td>2.3</td>\n",
       "      <td>NaN</td>\n",
       "      <td>Single cylinder</td>\n",
       "      <td>two-stroke</td>\n",
       "      <td>...</td>\n",
       "      <td>NaN</td>\n",
       "      <td>NaN</td>\n",
       "      <td>NaN</td>\n",
       "      <td>carburettor</td>\n",
       "      <td>not given/unknown</td>\n",
       "      <td>not given/unknown</td>\n",
       "      <td>other</td>\n",
       "      <td>other</td>\n",
       "      <td>other</td>\n",
       "      <td>other</td>\n",
       "    </tr>\n",
       "    <tr>\n",
       "      <th>38468</th>\n",
       "      <td>zÃ¼ndapp</td>\n",
       "      <td>z 249</td>\n",
       "      <td>1923</td>\n",
       "      <td>Sport</td>\n",
       "      <td>NaN</td>\n",
       "      <td>249.0</td>\n",
       "      <td>2.8</td>\n",
       "      <td>NaN</td>\n",
       "      <td>Single cylinder</td>\n",
       "      <td>two-stroke</td>\n",
       "      <td>...</td>\n",
       "      <td>76.0</td>\n",
       "      <td>NaN</td>\n",
       "      <td>NaN</td>\n",
       "      <td>carburettor</td>\n",
       "      <td>expanding brake (drum brake)</td>\n",
       "      <td>expanding brake (drum brake)</td>\n",
       "      <td>other</td>\n",
       "      <td>other</td>\n",
       "      <td>other</td>\n",
       "      <td>other</td>\n",
       "    </tr>\n",
       "    <tr>\n",
       "      <th>38469</th>\n",
       "      <td>zÃ¼ndapp</td>\n",
       "      <td>z 249</td>\n",
       "      <td>1924</td>\n",
       "      <td>Sport</td>\n",
       "      <td>NaN</td>\n",
       "      <td>249.0</td>\n",
       "      <td>2.8</td>\n",
       "      <td>NaN</td>\n",
       "      <td>Single cylinder</td>\n",
       "      <td>two-stroke</td>\n",
       "      <td>...</td>\n",
       "      <td>76.0</td>\n",
       "      <td>NaN</td>\n",
       "      <td>NaN</td>\n",
       "      <td>carburettor</td>\n",
       "      <td>expanding brake (drum brake)</td>\n",
       "      <td>expanding brake (drum brake)</td>\n",
       "      <td>other</td>\n",
       "      <td>other</td>\n",
       "      <td>other</td>\n",
       "      <td>other</td>\n",
       "    </tr>\n",
       "    <tr>\n",
       "      <th>38470</th>\n",
       "      <td>zÃ¼ndapp</td>\n",
       "      <td>z 300</td>\n",
       "      <td>1928</td>\n",
       "      <td>Sport</td>\n",
       "      <td>NaN</td>\n",
       "      <td>298.0</td>\n",
       "      <td>26.0</td>\n",
       "      <td>NaN</td>\n",
       "      <td>Single cylinder</td>\n",
       "      <td>two-stroke</td>\n",
       "      <td>...</td>\n",
       "      <td>105.0</td>\n",
       "      <td>NaN</td>\n",
       "      <td>NaN</td>\n",
       "      <td>carburettor</td>\n",
       "      <td>expanding brake (drum brake)</td>\n",
       "      <td>expanding brake (drum brake)</td>\n",
       "      <td>other</td>\n",
       "      <td>other</td>\n",
       "      <td>not given/unknown</td>\n",
       "      <td>not given/unknown</td>\n",
       "    </tr>\n",
       "    <tr>\n",
       "      <th>38471</th>\n",
       "      <td>zÃ¼ndapp</td>\n",
       "      <td>z 300</td>\n",
       "      <td>1929</td>\n",
       "      <td>Sport</td>\n",
       "      <td>NaN</td>\n",
       "      <td>298.0</td>\n",
       "      <td>26.0</td>\n",
       "      <td>NaN</td>\n",
       "      <td>Single cylinder</td>\n",
       "      <td>two-stroke</td>\n",
       "      <td>...</td>\n",
       "      <td>105.0</td>\n",
       "      <td>NaN</td>\n",
       "      <td>NaN</td>\n",
       "      <td>carburettor</td>\n",
       "      <td>expanding brake (drum brake)</td>\n",
       "      <td>expanding brake (drum brake)</td>\n",
       "      <td>other</td>\n",
       "      <td>other</td>\n",
       "      <td>not given/unknown</td>\n",
       "      <td>not given/unknown</td>\n",
       "    </tr>\n",
       "  </tbody>\n",
       "</table>\n",
       "<p>38472 rows × 27 columns</p>\n",
       "</div>"
      ],
      "text/plain": [
       "          Brand                Model  Year                   Category  Rating  \\\n",
       "0       acabion      da vinci 650-vi  2011  Prototype / concept model     3.2   \n",
       "1       acabion              gtbo 55  2007                      Sport     2.6   \n",
       "2       acabion  gtbo 600 daytona-vi  2011  Prototype / concept model     3.5   \n",
       "3       acabion  gtbo 600 daytona-vi  2021  Prototype / concept model     NaN   \n",
       "4       acabion              gtbo 70  2007  Prototype / concept model     3.1   \n",
       "...         ...                  ...   ...                        ...     ...   \n",
       "38467  zÃ¼ndapp                 z 22  1924                      Sport     NaN   \n",
       "38468  zÃ¼ndapp                z 249  1923                      Sport     NaN   \n",
       "38469  zÃ¼ndapp                z 249  1924                      Sport     NaN   \n",
       "38470  zÃ¼ndapp                z 300  1928                      Sport     NaN   \n",
       "38471  zÃ¼ndapp                z 300  1929                      Sport     NaN   \n",
       "\n",
       "       Displacement (ccm)  Power (hp)  Torque (Nm)  Engine cylinder  \\\n",
       "0                     NaN       804.0          NaN         Electric   \n",
       "1                  1300.0       541.0        420.0     In-line four   \n",
       "2                     NaN       536.0          NaN         Electric   \n",
       "3                     NaN       536.0          NaN         Electric   \n",
       "4                  1300.0       689.0        490.0     In-line four   \n",
       "...                   ...         ...          ...              ...   \n",
       "38467               211.0         2.3          NaN  Single cylinder   \n",
       "38468               249.0         2.8          NaN  Single cylinder   \n",
       "38469               249.0         2.8          NaN  Single cylinder   \n",
       "38470               298.0        26.0          NaN  Single cylinder   \n",
       "38471               298.0        26.0          NaN  Single cylinder   \n",
       "\n",
       "      Engine stroke  ... Dry weight (kg)  Wheelbase (mm)  Seat height (mm)  \\\n",
       "0          Electric  ...           420.0             NaN               NaN   \n",
       "1       four-stroke  ...           360.0             NaN               NaN   \n",
       "2          Electric  ...           420.0             NaN               NaN   \n",
       "3          Electric  ...           420.0             NaN               NaN   \n",
       "4       four-stroke  ...           300.0             NaN               NaN   \n",
       "...             ...  ...             ...             ...               ...   \n",
       "38467    two-stroke  ...             NaN             NaN               NaN   \n",
       "38468    two-stroke  ...            76.0             NaN               NaN   \n",
       "38469    two-stroke  ...            76.0             NaN               NaN   \n",
       "38470    two-stroke  ...           105.0             NaN               NaN   \n",
       "38471    two-stroke  ...           105.0             NaN               NaN   \n",
       "\n",
       "             Fuel system                  Front brakes  \\\n",
       "0      not given/unknown                   single disc   \n",
       "1                  other             not given/unknown   \n",
       "2      not given/unknown                   single disc   \n",
       "3      not given/unknown                   single disc   \n",
       "4                  other             not given/unknown   \n",
       "...                  ...                           ...   \n",
       "38467        carburettor             not given/unknown   \n",
       "38468        carburettor  expanding brake (drum brake)   \n",
       "38469        carburettor  expanding brake (drum brake)   \n",
       "38470        carburettor  expanding brake (drum brake)   \n",
       "38471        carburettor  expanding brake (drum brake)   \n",
       "\n",
       "                        Rear brakes Front tire  Rear tire   Front suspension  \\\n",
       "0                       single disc      other      other  not given/unknown   \n",
       "1                 not given/unknown      other      other  not given/unknown   \n",
       "2                       single disc      other      other  not given/unknown   \n",
       "3                       single disc      other      other  not given/unknown   \n",
       "4                 not given/unknown      other      other  not given/unknown   \n",
       "...                             ...        ...        ...                ...   \n",
       "38467             not given/unknown      other      other              other   \n",
       "38468  expanding brake (drum brake)      other      other              other   \n",
       "38469  expanding brake (drum brake)      other      other              other   \n",
       "38470  expanding brake (drum brake)      other      other  not given/unknown   \n",
       "38471  expanding brake (drum brake)      other      other  not given/unknown   \n",
       "\n",
       "         Rear suspension  \n",
       "0      not given/unknown  \n",
       "1      not given/unknown  \n",
       "2      not given/unknown  \n",
       "3      not given/unknown  \n",
       "4      not given/unknown  \n",
       "...                  ...  \n",
       "38467              other  \n",
       "38468              other  \n",
       "38469              other  \n",
       "38470  not given/unknown  \n",
       "38471  not given/unknown  \n",
       "\n",
       "[38472 rows x 27 columns]"
      ]
     },
     "execution_count": 3,
     "metadata": {},
     "output_type": "execute_result"
    }
   ],
   "source": [
    "# LOADING THE DATASET AS DATAFRAME\n",
    "df_tot=pd.read_csv('cla4lsp22_bikez_curated.csv', encoding='latin-1')\n",
    "\n",
    "# DISPLAY OF THE DATAFRAME\n",
    "df_tot"
   ]
  },
  {
   "cell_type": "markdown",
   "id": "836e696d",
   "metadata": {},
   "source": [
    "**(b)**\n",
    "\n",
    "I select a random integer r among 0, 1, 2, and create a sub-DFs **_workdf_**,  extracted from **_df_tot_**, such that it contains only data corresponding to years with reminder **_r_**,  if divided by three;"
   ]
  },
  {
   "cell_type": "code",
   "execution_count": 4,
   "id": "c3e1fc79",
   "metadata": {
    "scrolled": true
   },
   "outputs": [
    {
     "name": "stdout",
     "output_type": "stream",
     "text": [
      "random r is equal to 0\n"
     ]
    }
   ],
   "source": [
    "r = np.random.randint(0,3)\n",
    "print('random r is equal to ' + str(r))\n",
    "\n",
    "#I select the years whose remainder divided by 3 is equal to r and store it in workdf dataframe\n",
    "workdf = df_tot[df_tot['Year'] % 3 == r]  "
   ]
  },
  {
   "cell_type": "markdown",
   "id": "e666893b",
   "metadata": {},
   "source": [
    "**(c)**\n",
    "\n",
    "As can be seen in the appendix A:\n",
    "\n",
    "• labels: the columns Brand, Model, Year, Category, Rating;\n",
    "\n",
    "• features: all the other ones.\n",
    "\n",
    "I remove randomly from *workdf* two columns selected among the features: \n",
    "*Front/Rear breaks, Front/Rear tire, Front/Rear suspension*."
   ]
  },
  {
   "cell_type": "code",
   "execution_count": 5,
   "id": "160a59d9",
   "metadata": {
    "scrolled": true
   },
   "outputs": [],
   "source": [
    "# Store the name of features in labels list\n",
    "labels = ['Rear suspension', 'Rear tire', 'Rear brakes', 'Front suspension', 'Front tire', 'Front brakes']"
   ]
  },
  {
   "cell_type": "code",
   "execution_count": 6,
   "id": "da7f32ee",
   "metadata": {
    "scrolled": true
   },
   "outputs": [
    {
     "name": "stdout",
     "output_type": "stream",
     "text": [
      "The features that will be removed are : Front suspension - Front brakes\n"
     ]
    }
   ],
   "source": [
    "# then I select two random integer between 0 and 6(excluded) as an index for selecting a label from labels list\n",
    "to_remove = np.random.randint(0,6,size = 2)\n",
    "print('The features that will be removed are : ' + str(labels[to_remove[0]]) +\" - \" +str( labels[to_remove[1]]))"
   ]
  },
  {
   "cell_type": "code",
   "execution_count": 7,
   "id": "a9a878b5",
   "metadata": {
    "scrolled": true
   },
   "outputs": [],
   "source": [
    "# remove selected features from data frame\n",
    "workdf=workdf.drop([str(labels[to_remove[0]]), str(labels[to_remove[1]])], axis=1)"
   ]
  },
  {
   "cell_type": "markdown",
   "id": "9aa3396a",
   "metadata": {},
   "source": [
    "**(d)**\n",
    "\n",
    "I clean the dataset *workdf* from missing values in the feature columns.\n",
    "It should be noticed that for categorical data, sometimes the missing values can be interpreted as another category. This is useful in particular when, e.g., the rows with missing values are too much to be removed."
   ]
  },
  {
   "cell_type": "markdown",
   "id": "35cd20d7",
   "metadata": {},
   "source": [
    "I look for the total number of unavailable data (missing values) in each column:"
   ]
  },
  {
   "cell_type": "code",
   "execution_count": 8,
   "id": "cc779314",
   "metadata": {
    "scrolled": true
   },
   "outputs": [
    {
     "data": {
      "text/plain": [
       "Brand                     0\n",
       "Model                    10\n",
       "Year                      0\n",
       "Category                  0\n",
       "Rating                 6361\n",
       "Displacement (ccm)      339\n",
       "Power (hp)             4455\n",
       "Torque (Nm)            7732\n",
       "Engine cylinder           0\n",
       "Engine stroke             0\n",
       "Gearbox                   0\n",
       "Bore (mm)              3368\n",
       "Stroke (mm)            3368\n",
       "Fuel capacity (lts)    2583\n",
       "Fuel control              0\n",
       "Cooling system            0\n",
       "Transmission type         0\n",
       "Dry weight (kg)        5731\n",
       "Wheelbase (mm)         4513\n",
       "Seat height (mm)       5058\n",
       "Fuel system               0\n",
       "Rear brakes               0\n",
       "Front tire                0\n",
       "Rear tire                 0\n",
       "Rear suspension           0\n",
       "dtype: int64"
      ]
     },
     "execution_count": 8,
     "metadata": {},
     "output_type": "execute_result"
    }
   ],
   "source": [
    "#returns the columns in our Pandas dataframe along with the number of missing values detected in each one\n",
    "workdf.isna().sum()"
   ]
  },
  {
   "cell_type": "markdown",
   "id": "6be87499",
   "metadata": {},
   "source": [
    "As you can see, the number of missing values in some columns is very high, so I manually omit these columns."
   ]
  },
  {
   "cell_type": "code",
   "execution_count": 9,
   "id": "2fed757d",
   "metadata": {
    "scrolled": true
   },
   "outputs": [],
   "source": [
    "workdf=workdf.drop(['Rating','Displacement (ccm)','Power (hp)','Torque (Nm)',\n",
    "'Bore (mm)','Stroke (mm)','Fuel capacity (lts)',\n",
    "'Dry weight (kg)','Wheelbase (mm)','Seat height (mm)'], axis=1)"
   ]
  },
  {
   "cell_type": "markdown",
   "id": "6e8e9df0",
   "metadata": {},
   "source": [
    "After that, I remove the rows that contains NULL values(missing values) from the dataset."
   ]
  },
  {
   "cell_type": "code",
   "execution_count": 10,
   "id": "46732cda",
   "metadata": {
    "scrolled": true
   },
   "outputs": [],
   "source": [
    "workdf.dropna(inplace=True)"
   ]
  },
  {
   "cell_type": "markdown",
   "id": "416f248d",
   "metadata": {},
   "source": [
    "Now let's have a look at the dataset."
   ]
  },
  {
   "cell_type": "code",
   "execution_count": 11,
   "id": "969aeab0",
   "metadata": {
    "scrolled": false
   },
   "outputs": [
    {
     "data": {
      "text/html": [
       "<div>\n",
       "<style scoped>\n",
       "    .dataframe tbody tr th:only-of-type {\n",
       "        vertical-align: middle;\n",
       "    }\n",
       "\n",
       "    .dataframe tbody tr th {\n",
       "        vertical-align: top;\n",
       "    }\n",
       "\n",
       "    .dataframe thead th {\n",
       "        text-align: right;\n",
       "    }\n",
       "</style>\n",
       "<table border=\"1\" class=\"dataframe\">\n",
       "  <thead>\n",
       "    <tr style=\"text-align: right;\">\n",
       "      <th></th>\n",
       "      <th>Brand</th>\n",
       "      <th>Model</th>\n",
       "      <th>Year</th>\n",
       "      <th>Category</th>\n",
       "      <th>Engine cylinder</th>\n",
       "      <th>Engine stroke</th>\n",
       "      <th>Gearbox</th>\n",
       "      <th>Fuel control</th>\n",
       "      <th>Cooling system</th>\n",
       "      <th>Transmission type</th>\n",
       "      <th>Fuel system</th>\n",
       "      <th>Rear brakes</th>\n",
       "      <th>Front tire</th>\n",
       "      <th>Rear tire</th>\n",
       "      <th>Rear suspension</th>\n",
       "    </tr>\n",
       "  </thead>\n",
       "  <tbody>\n",
       "    <tr>\n",
       "      <th>1</th>\n",
       "      <td>acabion</td>\n",
       "      <td>gtbo 55</td>\n",
       "      <td>2007</td>\n",
       "      <td>Sport</td>\n",
       "      <td>In-line four</td>\n",
       "      <td>four-stroke</td>\n",
       "      <td>6-speed</td>\n",
       "      <td>Not Given/Unknown</td>\n",
       "      <td>Liquid</td>\n",
       "      <td>Not Given/Unknown</td>\n",
       "      <td>other</td>\n",
       "      <td>not given/unknown</td>\n",
       "      <td>other</td>\n",
       "      <td>other</td>\n",
       "      <td>not given/unknown</td>\n",
       "    </tr>\n",
       "    <tr>\n",
       "      <th>4</th>\n",
       "      <td>acabion</td>\n",
       "      <td>gtbo 70</td>\n",
       "      <td>2007</td>\n",
       "      <td>Prototype / concept model</td>\n",
       "      <td>In-line four</td>\n",
       "      <td>four-stroke</td>\n",
       "      <td>6-speed</td>\n",
       "      <td>Not Given/Unknown</td>\n",
       "      <td>Liquid</td>\n",
       "      <td>Not Given/Unknown</td>\n",
       "      <td>other</td>\n",
       "      <td>not given/unknown</td>\n",
       "      <td>other</td>\n",
       "      <td>other</td>\n",
       "      <td>not given/unknown</td>\n",
       "    </tr>\n",
       "    <tr>\n",
       "      <th>6</th>\n",
       "      <td>access</td>\n",
       "      <td>ams 3.20 supercross</td>\n",
       "      <td>2016</td>\n",
       "      <td>ATV</td>\n",
       "      <td>Single cylinder</td>\n",
       "      <td>four-stroke</td>\n",
       "      <td>Automatic</td>\n",
       "      <td>Overhead Valves (OHV)</td>\n",
       "      <td>Air</td>\n",
       "      <td>Chain</td>\n",
       "      <td>carburettor</td>\n",
       "      <td>single disc</td>\n",
       "      <td>other</td>\n",
       "      <td>other</td>\n",
       "      <td>not given/unknown</td>\n",
       "    </tr>\n",
       "    <tr>\n",
       "      <th>7</th>\n",
       "      <td>access</td>\n",
       "      <td>ams 4.30 supermoto efi</td>\n",
       "      <td>2016</td>\n",
       "      <td>ATV</td>\n",
       "      <td>Single cylinder</td>\n",
       "      <td>four-stroke</td>\n",
       "      <td>Automatic</td>\n",
       "      <td>Overhead Cams (OHC)</td>\n",
       "      <td>Air</td>\n",
       "      <td>Chain</td>\n",
       "      <td>efi. injection</td>\n",
       "      <td>single disc</td>\n",
       "      <td>other</td>\n",
       "      <td>other</td>\n",
       "      <td>not given/unknown</td>\n",
       "    </tr>\n",
       "    <tr>\n",
       "      <th>8</th>\n",
       "      <td>access</td>\n",
       "      <td>ams 4.38 sm gear shift</td>\n",
       "      <td>2016</td>\n",
       "      <td>ATV</td>\n",
       "      <td>Single cylinder</td>\n",
       "      <td>four-stroke</td>\n",
       "      <td>5-speed</td>\n",
       "      <td>Overhead Cams (OHC)</td>\n",
       "      <td>Air</td>\n",
       "      <td>Chain</td>\n",
       "      <td>carburettor</td>\n",
       "      <td>single disc</td>\n",
       "      <td>other</td>\n",
       "      <td>other</td>\n",
       "      <td>not given/unknown</td>\n",
       "    </tr>\n",
       "    <tr>\n",
       "      <th>...</th>\n",
       "      <td>...</td>\n",
       "      <td>...</td>\n",
       "      <td>...</td>\n",
       "      <td>...</td>\n",
       "      <td>...</td>\n",
       "      <td>...</td>\n",
       "      <td>...</td>\n",
       "      <td>...</td>\n",
       "      <td>...</td>\n",
       "      <td>...</td>\n",
       "      <td>...</td>\n",
       "      <td>...</td>\n",
       "      <td>...</td>\n",
       "      <td>...</td>\n",
       "      <td>...</td>\n",
       "    </tr>\n",
       "    <tr>\n",
       "      <th>38459</th>\n",
       "      <td>zÃ¼ndapp</td>\n",
       "      <td>roller super</td>\n",
       "      <td>1968</td>\n",
       "      <td>Scooter</td>\n",
       "      <td>Single cylinder</td>\n",
       "      <td>two-stroke</td>\n",
       "      <td>Not Given/Unknown</td>\n",
       "      <td>Not Given/Unknown</td>\n",
       "      <td>Air</td>\n",
       "      <td>Not Given/Unknown</td>\n",
       "      <td>carburettor. other</td>\n",
       "      <td>expanding brake (drum brake)</td>\n",
       "      <td>other</td>\n",
       "      <td>other</td>\n",
       "      <td>not given/unknown</td>\n",
       "    </tr>\n",
       "    <tr>\n",
       "      <th>38462</th>\n",
       "      <td>zÃ¼ndapp</td>\n",
       "      <td>z 2 g</td>\n",
       "      <td>1923</td>\n",
       "      <td>Sport</td>\n",
       "      <td>Single cylinder</td>\n",
       "      <td>two-stroke</td>\n",
       "      <td>2-speed</td>\n",
       "      <td>Not Given/Unknown</td>\n",
       "      <td>Air</td>\n",
       "      <td>Belt</td>\n",
       "      <td>carburettor</td>\n",
       "      <td>not given/unknown</td>\n",
       "      <td>other</td>\n",
       "      <td>other</td>\n",
       "      <td>other</td>\n",
       "    </tr>\n",
       "    <tr>\n",
       "      <th>38466</th>\n",
       "      <td>zÃ¼ndapp</td>\n",
       "      <td>z 22</td>\n",
       "      <td>1923</td>\n",
       "      <td>Sport</td>\n",
       "      <td>Single cylinder</td>\n",
       "      <td>two-stroke</td>\n",
       "      <td>Not Given/Unknown</td>\n",
       "      <td>Not Given/Unknown</td>\n",
       "      <td>Air</td>\n",
       "      <td>Belt</td>\n",
       "      <td>carburettor</td>\n",
       "      <td>not given/unknown</td>\n",
       "      <td>other</td>\n",
       "      <td>other</td>\n",
       "      <td>other</td>\n",
       "    </tr>\n",
       "    <tr>\n",
       "      <th>38468</th>\n",
       "      <td>zÃ¼ndapp</td>\n",
       "      <td>z 249</td>\n",
       "      <td>1923</td>\n",
       "      <td>Sport</td>\n",
       "      <td>Single cylinder</td>\n",
       "      <td>two-stroke</td>\n",
       "      <td>3-speed</td>\n",
       "      <td>Not Given/Unknown</td>\n",
       "      <td>Air</td>\n",
       "      <td>Belt</td>\n",
       "      <td>carburettor</td>\n",
       "      <td>expanding brake (drum brake)</td>\n",
       "      <td>other</td>\n",
       "      <td>other</td>\n",
       "      <td>other</td>\n",
       "    </tr>\n",
       "    <tr>\n",
       "      <th>38471</th>\n",
       "      <td>zÃ¼ndapp</td>\n",
       "      <td>z 300</td>\n",
       "      <td>1929</td>\n",
       "      <td>Sport</td>\n",
       "      <td>Single cylinder</td>\n",
       "      <td>two-stroke</td>\n",
       "      <td>Not Given/Unknown</td>\n",
       "      <td>Overhead Valves (OHV)</td>\n",
       "      <td>Air</td>\n",
       "      <td>Chain</td>\n",
       "      <td>carburettor</td>\n",
       "      <td>expanding brake (drum brake)</td>\n",
       "      <td>other</td>\n",
       "      <td>other</td>\n",
       "      <td>not given/unknown</td>\n",
       "    </tr>\n",
       "  </tbody>\n",
       "</table>\n",
       "<p>13663 rows × 15 columns</p>\n",
       "</div>"
      ],
      "text/plain": [
       "          Brand                   Model  Year                   Category  \\\n",
       "1       acabion                 gtbo 55  2007                      Sport   \n",
       "4       acabion                 gtbo 70  2007  Prototype / concept model   \n",
       "6        access     ams 3.20 supercross  2016                        ATV   \n",
       "7        access  ams 4.30 supermoto efi  2016                        ATV   \n",
       "8        access  ams 4.38 sm gear shift  2016                        ATV   \n",
       "...         ...                     ...   ...                        ...   \n",
       "38459  zÃ¼ndapp            roller super  1968                    Scooter   \n",
       "38462  zÃ¼ndapp                   z 2 g  1923                      Sport   \n",
       "38466  zÃ¼ndapp                    z 22  1923                      Sport   \n",
       "38468  zÃ¼ndapp                   z 249  1923                      Sport   \n",
       "38471  zÃ¼ndapp                   z 300  1929                      Sport   \n",
       "\n",
       "       Engine cylinder Engine stroke            Gearbox  \\\n",
       "1         In-line four   four-stroke            6-speed   \n",
       "4         In-line four   four-stroke            6-speed   \n",
       "6      Single cylinder   four-stroke          Automatic   \n",
       "7      Single cylinder   four-stroke          Automatic   \n",
       "8      Single cylinder   four-stroke            5-speed   \n",
       "...                ...           ...                ...   \n",
       "38459  Single cylinder    two-stroke  Not Given/Unknown   \n",
       "38462  Single cylinder    two-stroke            2-speed   \n",
       "38466  Single cylinder    two-stroke  Not Given/Unknown   \n",
       "38468  Single cylinder    two-stroke            3-speed   \n",
       "38471  Single cylinder    two-stroke  Not Given/Unknown   \n",
       "\n",
       "                Fuel control Cooling system  Transmission type  \\\n",
       "1          Not Given/Unknown         Liquid  Not Given/Unknown   \n",
       "4          Not Given/Unknown         Liquid  Not Given/Unknown   \n",
       "6      Overhead Valves (OHV)            Air              Chain   \n",
       "7        Overhead Cams (OHC)            Air              Chain   \n",
       "8        Overhead Cams (OHC)            Air              Chain   \n",
       "...                      ...            ...                ...   \n",
       "38459      Not Given/Unknown            Air  Not Given/Unknown   \n",
       "38462      Not Given/Unknown            Air               Belt   \n",
       "38466      Not Given/Unknown            Air               Belt   \n",
       "38468      Not Given/Unknown            Air               Belt   \n",
       "38471  Overhead Valves (OHV)            Air              Chain   \n",
       "\n",
       "              Fuel system                   Rear brakes Front tire Rear tire  \\\n",
       "1                   other             not given/unknown      other     other   \n",
       "4                   other             not given/unknown      other     other   \n",
       "6             carburettor                   single disc      other     other   \n",
       "7          efi. injection                   single disc      other     other   \n",
       "8             carburettor                   single disc      other     other   \n",
       "...                   ...                           ...        ...       ...   \n",
       "38459  carburettor. other  expanding brake (drum brake)      other     other   \n",
       "38462         carburettor             not given/unknown      other     other   \n",
       "38466         carburettor             not given/unknown      other     other   \n",
       "38468         carburettor  expanding brake (drum brake)      other     other   \n",
       "38471         carburettor  expanding brake (drum brake)      other     other   \n",
       "\n",
       "         Rear suspension  \n",
       "1      not given/unknown  \n",
       "4      not given/unknown  \n",
       "6      not given/unknown  \n",
       "7      not given/unknown  \n",
       "8      not given/unknown  \n",
       "...                  ...  \n",
       "38459  not given/unknown  \n",
       "38462              other  \n",
       "38466              other  \n",
       "38468              other  \n",
       "38471  not given/unknown  \n",
       "\n",
       "[13663 rows x 15 columns]"
      ]
     },
     "execution_count": 11,
     "metadata": {},
     "output_type": "execute_result"
    }
   ],
   "source": [
    "workdf"
   ]
  },
  {
   "cell_type": "markdown",
   "id": "1e103cb1",
   "metadata": {},
   "source": [
    "# Exercise 2 (Encoding of Categorical Data):"
   ]
  },
  {
   "cell_type": "markdown",
   "id": "39fea995",
   "metadata": {},
   "source": [
    "I assess the *workdf* and get it ready for the **PCA**. Due to the fact that all current columns include categorical data, I use the **LabelEncoder** function to transform the values, fit the function to the column, and then swap the new column for the old one."
   ]
  },
  {
   "cell_type": "code",
   "execution_count": 12,
   "id": "a4da893b",
   "metadata": {
    "scrolled": true
   },
   "outputs": [],
   "source": [
    "# encoding the all categorical colunms \n",
    "from sklearn.preprocessing import LabelEncoder\n",
    "label_encoder = LabelEncoder()\n",
    "\n",
    "for i in workdf.columns:\n",
    "    label_name = i\n",
    "    x = workdf[label_name]\n",
    "    y = label_encoder.fit_transform(x)\n",
    "    workdf.insert(4,str(label_name)+\"2\",y)\n",
    "    workdf.drop(label_name,axis=1,inplace=True)"
   ]
  },
  {
   "cell_type": "markdown",
   "id": "ba2e7c75",
   "metadata": {},
   "source": [
    "for instance, You can see the new values of the Model column. I did exactly the same thing for other categorical columns via For loop.\n",
    "\n",
    "I store into a variable **_Xworkdf_** the sub-DF obtained from workdf selecting the feature columns (updated to the new encoding)."
   ]
  },
  {
   "cell_type": "code",
   "execution_count": 13,
   "id": "0b27d3cb",
   "metadata": {
    "scrolled": true
   },
   "outputs": [
    {
     "data": {
      "text/html": [
       "<div>\n",
       "<style scoped>\n",
       "    .dataframe tbody tr th:only-of-type {\n",
       "        vertical-align: middle;\n",
       "    }\n",
       "\n",
       "    .dataframe tbody tr th {\n",
       "        vertical-align: top;\n",
       "    }\n",
       "\n",
       "    .dataframe thead th {\n",
       "        text-align: right;\n",
       "    }\n",
       "</style>\n",
       "<table border=\"1\" class=\"dataframe\">\n",
       "  <thead>\n",
       "    <tr style=\"text-align: right;\">\n",
       "      <th></th>\n",
       "      <th>Brand2</th>\n",
       "      <th>Model2</th>\n",
       "      <th>Year2</th>\n",
       "      <th>Category2</th>\n",
       "      <th>Rear suspension2</th>\n",
       "      <th>Rear tire2</th>\n",
       "      <th>Front tire2</th>\n",
       "      <th>Rear brakes2</th>\n",
       "      <th>Fuel system2</th>\n",
       "      <th>Transmission type2</th>\n",
       "      <th>Cooling system2</th>\n",
       "      <th>Fuel control2</th>\n",
       "      <th>Gearbox2</th>\n",
       "      <th>Engine stroke2</th>\n",
       "      <th>Engine cylinder2</th>\n",
       "    </tr>\n",
       "  </thead>\n",
       "  <tbody>\n",
       "    <tr>\n",
       "      <th>1</th>\n",
       "      <td>0</td>\n",
       "      <td>4061</td>\n",
       "      <td>37</td>\n",
       "      <td>12</td>\n",
       "      <td>6</td>\n",
       "      <td>5</td>\n",
       "      <td>9</td>\n",
       "      <td>34</td>\n",
       "      <td>7</td>\n",
       "      <td>2</td>\n",
       "      <td>1</td>\n",
       "      <td>5</td>\n",
       "      <td>11</td>\n",
       "      <td>0</td>\n",
       "      <td>5</td>\n",
       "    </tr>\n",
       "    <tr>\n",
       "      <th>4</th>\n",
       "      <td>0</td>\n",
       "      <td>4062</td>\n",
       "      <td>37</td>\n",
       "      <td>9</td>\n",
       "      <td>6</td>\n",
       "      <td>5</td>\n",
       "      <td>9</td>\n",
       "      <td>34</td>\n",
       "      <td>7</td>\n",
       "      <td>2</td>\n",
       "      <td>1</td>\n",
       "      <td>5</td>\n",
       "      <td>11</td>\n",
       "      <td>0</td>\n",
       "      <td>5</td>\n",
       "    </tr>\n",
       "    <tr>\n",
       "      <th>6</th>\n",
       "      <td>1</td>\n",
       "      <td>1066</td>\n",
       "      <td>40</td>\n",
       "      <td>0</td>\n",
       "      <td>6</td>\n",
       "      <td>5</td>\n",
       "      <td>9</td>\n",
       "      <td>36</td>\n",
       "      <td>0</td>\n",
       "      <td>1</td>\n",
       "      <td>0</td>\n",
       "      <td>7</td>\n",
       "      <td>13</td>\n",
       "      <td>0</td>\n",
       "      <td>10</td>\n",
       "    </tr>\n",
       "    <tr>\n",
       "      <th>7</th>\n",
       "      <td>1</td>\n",
       "      <td>1067</td>\n",
       "      <td>40</td>\n",
       "      <td>0</td>\n",
       "      <td>6</td>\n",
       "      <td>5</td>\n",
       "      <td>9</td>\n",
       "      <td>36</td>\n",
       "      <td>3</td>\n",
       "      <td>1</td>\n",
       "      <td>0</td>\n",
       "      <td>6</td>\n",
       "      <td>13</td>\n",
       "      <td>0</td>\n",
       "      <td>10</td>\n",
       "    </tr>\n",
       "    <tr>\n",
       "      <th>8</th>\n",
       "      <td>1</td>\n",
       "      <td>1068</td>\n",
       "      <td>40</td>\n",
       "      <td>0</td>\n",
       "      <td>6</td>\n",
       "      <td>5</td>\n",
       "      <td>9</td>\n",
       "      <td>36</td>\n",
       "      <td>0</td>\n",
       "      <td>1</td>\n",
       "      <td>0</td>\n",
       "      <td>6</td>\n",
       "      <td>9</td>\n",
       "      <td>0</td>\n",
       "      <td>10</td>\n",
       "    </tr>\n",
       "    <tr>\n",
       "      <th>...</th>\n",
       "      <td>...</td>\n",
       "      <td>...</td>\n",
       "      <td>...</td>\n",
       "      <td>...</td>\n",
       "      <td>...</td>\n",
       "      <td>...</td>\n",
       "      <td>...</td>\n",
       "      <td>...</td>\n",
       "      <td>...</td>\n",
       "      <td>...</td>\n",
       "      <td>...</td>\n",
       "      <td>...</td>\n",
       "      <td>...</td>\n",
       "      <td>...</td>\n",
       "      <td>...</td>\n",
       "    </tr>\n",
       "    <tr>\n",
       "      <th>38459</th>\n",
       "      <td>480</td>\n",
       "      <td>6596</td>\n",
       "      <td>24</td>\n",
       "      <td>10</td>\n",
       "      <td>6</td>\n",
       "      <td>5</td>\n",
       "      <td>9</td>\n",
       "      <td>15</td>\n",
       "      <td>1</td>\n",
       "      <td>2</td>\n",
       "      <td>0</td>\n",
       "      <td>5</td>\n",
       "      <td>14</td>\n",
       "      <td>1</td>\n",
       "      <td>10</td>\n",
       "    </tr>\n",
       "    <tr>\n",
       "      <th>38462</th>\n",
       "      <td>480</td>\n",
       "      <td>9872</td>\n",
       "      <td>9</td>\n",
       "      <td>12</td>\n",
       "      <td>7</td>\n",
       "      <td>5</td>\n",
       "      <td>9</td>\n",
       "      <td>34</td>\n",
       "      <td>0</td>\n",
       "      <td>0</td>\n",
       "      <td>0</td>\n",
       "      <td>5</td>\n",
       "      <td>3</td>\n",
       "      <td>1</td>\n",
       "      <td>10</td>\n",
       "    </tr>\n",
       "    <tr>\n",
       "      <th>38466</th>\n",
       "      <td>480</td>\n",
       "      <td>9874</td>\n",
       "      <td>9</td>\n",
       "      <td>12</td>\n",
       "      <td>7</td>\n",
       "      <td>5</td>\n",
       "      <td>9</td>\n",
       "      <td>34</td>\n",
       "      <td>0</td>\n",
       "      <td>0</td>\n",
       "      <td>0</td>\n",
       "      <td>5</td>\n",
       "      <td>14</td>\n",
       "      <td>1</td>\n",
       "      <td>10</td>\n",
       "    </tr>\n",
       "    <tr>\n",
       "      <th>38468</th>\n",
       "      <td>480</td>\n",
       "      <td>9875</td>\n",
       "      <td>9</td>\n",
       "      <td>12</td>\n",
       "      <td>7</td>\n",
       "      <td>5</td>\n",
       "      <td>9</td>\n",
       "      <td>15</td>\n",
       "      <td>0</td>\n",
       "      <td>0</td>\n",
       "      <td>0</td>\n",
       "      <td>5</td>\n",
       "      <td>5</td>\n",
       "      <td>1</td>\n",
       "      <td>10</td>\n",
       "    </tr>\n",
       "    <tr>\n",
       "      <th>38471</th>\n",
       "      <td>480</td>\n",
       "      <td>9881</td>\n",
       "      <td>11</td>\n",
       "      <td>12</td>\n",
       "      <td>6</td>\n",
       "      <td>5</td>\n",
       "      <td>9</td>\n",
       "      <td>15</td>\n",
       "      <td>0</td>\n",
       "      <td>1</td>\n",
       "      <td>0</td>\n",
       "      <td>7</td>\n",
       "      <td>14</td>\n",
       "      <td>1</td>\n",
       "      <td>10</td>\n",
       "    </tr>\n",
       "  </tbody>\n",
       "</table>\n",
       "<p>13663 rows × 15 columns</p>\n",
       "</div>"
      ],
      "text/plain": [
       "       Brand2  Model2  Year2  Category2  Rear suspension2  Rear tire2  \\\n",
       "1           0    4061     37         12                 6           5   \n",
       "4           0    4062     37          9                 6           5   \n",
       "6           1    1066     40          0                 6           5   \n",
       "7           1    1067     40          0                 6           5   \n",
       "8           1    1068     40          0                 6           5   \n",
       "...       ...     ...    ...        ...               ...         ...   \n",
       "38459     480    6596     24         10                 6           5   \n",
       "38462     480    9872      9         12                 7           5   \n",
       "38466     480    9874      9         12                 7           5   \n",
       "38468     480    9875      9         12                 7           5   \n",
       "38471     480    9881     11         12                 6           5   \n",
       "\n",
       "       Front tire2  Rear brakes2  Fuel system2  Transmission type2  \\\n",
       "1                9            34             7                   2   \n",
       "4                9            34             7                   2   \n",
       "6                9            36             0                   1   \n",
       "7                9            36             3                   1   \n",
       "8                9            36             0                   1   \n",
       "...            ...           ...           ...                 ...   \n",
       "38459            9            15             1                   2   \n",
       "38462            9            34             0                   0   \n",
       "38466            9            34             0                   0   \n",
       "38468            9            15             0                   0   \n",
       "38471            9            15             0                   1   \n",
       "\n",
       "       Cooling system2  Fuel control2  Gearbox2  Engine stroke2  \\\n",
       "1                    1              5        11               0   \n",
       "4                    1              5        11               0   \n",
       "6                    0              7        13               0   \n",
       "7                    0              6        13               0   \n",
       "8                    0              6         9               0   \n",
       "...                ...            ...       ...             ...   \n",
       "38459                0              5        14               1   \n",
       "38462                0              5         3               1   \n",
       "38466                0              5        14               1   \n",
       "38468                0              5         5               1   \n",
       "38471                0              7        14               1   \n",
       "\n",
       "       Engine cylinder2  \n",
       "1                     5  \n",
       "4                     5  \n",
       "6                    10  \n",
       "7                    10  \n",
       "8                    10  \n",
       "...                 ...  \n",
       "38459                10  \n",
       "38462                10  \n",
       "38466                10  \n",
       "38468                10  \n",
       "38471                10  \n",
       "\n",
       "[13663 rows x 15 columns]"
      ]
     },
     "execution_count": 13,
     "metadata": {},
     "output_type": "execute_result"
    }
   ],
   "source": [
    "Xworkdf = workdf\n",
    "\n",
    "# now lets have  a look at the new dataset\n",
    "Xworkdf"
   ]
  },
  {
   "cell_type": "markdown",
   "id": "89c52b30",
   "metadata": {},
   "source": [
    "# Exercise 3 (Preprocessing and PCA): "
   ]
  },
  {
   "cell_type": "markdown",
   "id": "f89521a1",
   "metadata": {},
   "source": [
    "**(a)**\n",
    "\n",
    "I use *StandardScaler* and *MinMaxScalar* to scale the dataset."
   ]
  },
  {
   "cell_type": "markdown",
   "id": "881720ec",
   "metadata": {},
   "source": [
    "**sklearn.preprocessing.MinMaxScaler:** This scaler transform the data such that the values of each column are distributed between a **min. value $m$** and a **max. value $M$**.\n",
    "\n",
    "let $x_{min} , x_{max} ∈ \\mathbb{R}^{n}$ be the vectors of minimum and maximum values of the features, respectively; then"
   ]
  },
  {
   "cell_type": "markdown",
   "id": "82919018",
   "metadata": {},
   "source": [
    "$$\n",
    "S^\\prime = \\Bigg( S- \n",
    "\\begin{bmatrix}\n",
    "x_{min}^T\\\\\n",
    "\\vdots\\\\\n",
    "x_{min}^T\n",
    "\\end{bmatrix}\n",
    "\\Bigg) \\frac..\n",
    "\\begin{bmatrix}\n",
    "x_{max}-x_{min} \\\\\n",
    "\\vdots \\\\\n",
    "x_{max}-x_{min} \\\\\n",
    "\\end{bmatrix} . (M-m) + m\n",
    "$$\n",
    "all the operations are intended to be element-wise."
   ]
  },
  {
   "cell_type": "markdown",
   "id": "9f6c678e",
   "metadata": {},
   "source": [
    "**MinMaxScaler(feature_range = (0, 1))** will transform each value in the column proportionally within the range $[0,1]$.\n",
    "I use this as the first scaler choice to transform a feature, as it will preserve the shape of the dataset (no distortion).\n",
    "therefore, I scale the features with **_MinMaxScaler_** and transform these values and then fit the dataframe and store it to the new dataframe **Xworkdf_mm**."
   ]
  },
  {
   "cell_type": "code",
   "execution_count": 14,
   "id": "d5ebb9a0",
   "metadata": {
    "scrolled": true
   },
   "outputs": [],
   "source": [
    "from sklearn import preprocessing\n",
    "\n",
    "Scaler=preprocessing.MinMaxScaler(feature_range=(0,1))\n",
    "\n",
    "#Fit to dataframe, then transform it.\n",
    "Xworkdf_mm = Scaler.fit_transform (Xworkdf)  \n",
    "Xworkdf_mm = pd.DataFrame(Xworkdf_mm) "
   ]
  },
  {
   "cell_type": "markdown",
   "id": "e490248d",
   "metadata": {},
   "source": [
    "Then I Scale the features with **StandarScaler**. Standardization is the most commonly used data preprocessing method prior to PCA, primarily because it is equivalent to performing the PCA with the correlation matrix of the data C(S) (rather than the covariance matrix V(S)).\n",
    "\n",
    "**sklearn.preprocessing.StandardScaler:** it is a sklearn class for standardizing data. i.e., all the data are\n",
    "re-centered and the st.dev. is normalized.\n",
    "\n",
    "Given a data matrix $S$, the scaler compute the mean $µ(S)$ and/or the std dev. $σ(S)$.\n",
    "Then, for each $X, Y ∈ \\mathbb{R}^{K\\times n}$ it can make the following transformations.\n",
    "    \n",
    "**z-normalization:**\n",
    "$$\n",
    "X\\mapsto \n",
    "\\begin{bmatrix}\n",
    "(x_1^T-\\mu^T(S))\\frac.. &  & \\sigma^T(S) \\\\\n",
    "\\vdots &  & \\vdots \\\\\n",
    "(x_K^T-\\mu^T(S))\\frac.. &  & \\sigma^T(S) \\\\\n",
    "\\end{bmatrix}\n",
    "$$\n",
    "all the operations are intended to be element-wise."
   ]
  },
  {
   "cell_type": "code",
   "execution_count": 15,
   "id": "f321315e",
   "metadata": {
    "scrolled": true
   },
   "outputs": [],
   "source": [
    "from sklearn.preprocessing import StandardScaler\n",
    "#import numpy as np\n",
    "\n",
    "scaler = StandardScaler()\n",
    "Xworkdf_std = scaler.fit_transform(Xworkdf)\n",
    "Xworkdf_std = pd.DataFrame(Xworkdf_std )"
   ]
  },
  {
   "cell_type": "markdown",
   "id": "1ef7d701",
   "metadata": {},
   "source": [
    "**(b)**\n",
    "\n",
    "Now lets Compare the values of *variance* for three datasets, **Xworkdf , Xworkdf_std , and Xworkdf_mm**"
   ]
  },
  {
   "cell_type": "code",
   "execution_count": 16,
   "id": "6dfaec43",
   "metadata": {
    "scrolled": false
   },
   "outputs": [
    {
     "data": {
      "text/plain": [
       "0     0.081294\n",
       "1     0.083480\n",
       "2     0.024286\n",
       "3     0.073863\n",
       "4     0.013832\n",
       "5     0.036369\n",
       "6     0.056248\n",
       "7     0.051631\n",
       "8     0.118346\n",
       "9     0.081455\n",
       "10    0.072178\n",
       "11    0.071219\n",
       "12    0.028930\n",
       "13    0.007111\n",
       "14    0.031801\n",
       "dtype: float64"
      ]
     },
     "execution_count": 16,
     "metadata": {},
     "output_type": "execute_result"
    }
   ],
   "source": [
    "Xworkdf_mm.var()"
   ]
  },
  {
   "cell_type": "code",
   "execution_count": 17,
   "id": "8b13dd08",
   "metadata": {
    "scrolled": true
   },
   "outputs": [
    {
     "data": {
      "text/plain": [
       "0     1.000073\n",
       "1     1.000073\n",
       "2     1.000073\n",
       "3     1.000073\n",
       "4     1.000073\n",
       "5     1.000073\n",
       "6     1.000073\n",
       "7     1.000073\n",
       "8     1.000073\n",
       "9     1.000073\n",
       "10    1.000073\n",
       "11    1.000073\n",
       "12    1.000073\n",
       "13    1.000073\n",
       "14    1.000073\n",
       "dtype: float64"
      ]
     },
     "execution_count": 17,
     "metadata": {},
     "output_type": "execute_result"
    }
   ],
   "source": [
    "Xworkdf_std.var()"
   ]
  },
  {
   "cell_type": "code",
   "execution_count": 18,
   "id": "407eb858",
   "metadata": {
    "scrolled": false
   },
   "outputs": [
    {
     "data": {
      "text/plain": [
       "Brand2                1.873010e+04\n",
       "Model2                8.441781e+06\n",
       "Year2                 4.284005e+01\n",
       "Category2             2.134652e+01\n",
       "Rear suspension2      1.991868e+00\n",
       "Rear tire2            9.092220e-01\n",
       "Front tire2           4.556073e+00\n",
       "Rear brakes2          1.396093e+02\n",
       "Fuel system2          5.798937e+00\n",
       "Transmission type2    7.330914e-01\n",
       "Cooling system2       6.496065e-01\n",
       "Fuel control2         1.395890e+01\n",
       "Gearbox2              5.670302e+00\n",
       "Engine stroke2        5.760259e-01\n",
       "Engine cylinder2      1.272055e+01\n",
       "dtype: float64"
      ]
     },
     "execution_count": 18,
     "metadata": {},
     "output_type": "execute_result"
    }
   ],
   "source": [
    "Xworkdf.var()"
   ]
  },
  {
   "cell_type": "markdown",
   "id": "155cd8ae",
   "metadata": {},
   "source": [
    "As you can see, *Xworkdf* has a **higher** variance of features than the other two.\n",
    "The variance for all features is the same for standard scalar (*Xworkdf_std*), which is **normal**, whereas the variance for MinMaxScaler (*Xworkdf_mm*) is significantly **lower** in comparison to the original data.\n",
    "\n",
    "The variance of the data is too high if feature scaling is not performed on our original dataset, so feature scaling must be performed using either a standard scaler or a min-max scaler."
   ]
  },
  {
   "cell_type": "markdown",
   "id": "98790e04",
   "metadata": {},
   "source": [
    "**(c)** \n",
    "\n",
    "In this step, I apply the full PCA to the **Xworkdf**."
   ]
  },
  {
   "cell_type": "code",
   "execution_count": 19,
   "id": "b50dc9bf",
   "metadata": {
    "scrolled": true
   },
   "outputs": [
    {
     "data": {
      "text/plain": [
       "array([[-9.65034560e+02,  2.40050218e+02, -5.89303679e+00, ...,\n",
       "         4.01607294e-01, -8.91136539e-02, -9.47031008e-01],\n",
       "       [-9.64034564e+02,  2.40057998e+02, -5.83672286e+00, ...,\n",
       "         3.91852214e-01, -4.44403156e-02, -9.46983605e-01],\n",
       "       [-3.95993904e+03,  2.16255560e+02, -8.13505767e+00, ...,\n",
       "        -2.81548648e-01, -9.88217443e-01, -3.87052076e-01],\n",
       "       ...,\n",
       "       [ 4.85144843e+03, -1.95539429e+02, -3.44539228e+00, ...,\n",
       "        -1.12220918e+00, -3.66010656e-01,  7.18261854e-01],\n",
       "       [ 4.85244797e+03, -1.95622135e+02,  1.53421210e+01, ...,\n",
       "        -1.01822995e+00,  4.85481043e-01,  7.16013686e-01],\n",
       "       [ 4.85844811e+03, -1.95586856e+02,  1.51281863e+01, ...,\n",
       "        -4.17069965e-01, -4.94070437e-01,  6.72646621e-01]])"
      ]
     },
     "execution_count": 19,
     "metadata": {},
     "output_type": "execute_result"
    }
   ],
   "source": [
    "from sklearn.decomposition import PCA\n",
    "\n",
    "pca1 = PCA()\n",
    "pca1.fit_transform(Xworkdf)"
   ]
  },
  {
   "cell_type": "markdown",
   "id": "6ea694e7",
   "metadata": {},
   "source": [
    "The cumulative explained variance and component-wise variance are shown in the figures below."
   ]
  },
  {
   "cell_type": "code",
   "execution_count": 20,
   "id": "caeb96e7",
   "metadata": {
    "scrolled": true
   },
   "outputs": [
    {
     "data": {
      "text/plain": [
       "array([<AxesSubplot:title={'center':'% Explained Variance'}, xlabel='Component'>,\n",
       "       <AxesSubplot:title={'center':'% Cumulative Variance'}, xlabel='Component'>],\n",
       "      dtype=object)"
      ]
     },
     "execution_count": 20,
     "metadata": {},
     "output_type": "execute_result"
    },
    {
     "data": {
      "image/png": "[encoded data removed]",
      "text/plain": [
       "<Figure size 800x400 with 2 Axes>"
      ]
     },
     "metadata": {
      "needs_background": "light"
     },
     "output_type": "display_data"
    }
   ],
   "source": [
    "# Look at explained variance\n",
    "def plot_variance(pca, width=8, dpi=100):\n",
    "    # Create figure\n",
    "    fig, axs = plt.subplots(1, 2)\n",
    "    n = pca.n_components_\n",
    "    grid = np.arange(1, n + 1)\n",
    "    # Explained variance\n",
    "    evr = pca.explained_variance_ratio_\n",
    "    axs[0].bar(grid, evr)\n",
    "    axs[0].set(\n",
    "        xlabel=\"Component\", title=\"% Explained Variance\", ylim=(0.0, 1.0)\n",
    "    )\n",
    "    # Cumulative Variance\n",
    "    cv = np.cumsum(evr)\n",
    "    axs[1].plot(np.r_[0, grid], np.r_[0, cv], \"o-\")\n",
    "    axs[1].set(\n",
    "        xlabel=\"Component\", title=\"% Cumulative Variance\", ylim=(0.0, 1.0)\n",
    "    )\n",
    "    # Set up figure\n",
    "    fig.set(figwidth=8, dpi=100)\n",
    "    return axs\n",
    "\n",
    "def make_mi_scores(X, y, discrete_features):\n",
    "    mi_scores = mutual_info_regression(X, y, discrete_features=discrete_features)\n",
    "    mi_scores = pd.Series(mi_scores, name=\"MI Scores\", index=X.columns)\n",
    "    mi_scores = mi_scores.sort_values(ascending=False)\n",
    "    return mi_scores\n",
    "plot_variance(pca1)"
   ]
  },
  {
   "cell_type": "markdown",
   "id": "268aa7a5",
   "metadata": {},
   "source": [
    "The diagram depicts the amount of variance distribution of the main data based on the number of components. Since the variance of our original data is high; according to the graph, I must keep all of the components in order to cover the variance of the original data."
   ]
  },
  {
   "cell_type": "code",
   "execution_count": 21,
   "id": "88a43f77",
   "metadata": {
    "scrolled": true
   },
   "outputs": [
    {
     "data": {
      "text/plain": [
       "Text(0.5, 1.0, 'Component-wise and Cumulative Explained Variance')"
      ]
     },
     "execution_count": 21,
     "metadata": {},
     "output_type": "execute_result"
    },
    {
     "data": {
      "image/png": "[encoded data removed]",
      "text/plain": [
       "<Figure size 432x288 with 1 Axes>"
      ]
     },
     "metadata": {
      "needs_background": "light"
     },
     "output_type": "display_data"
    }
   ],
   "source": [
    "plt.plot(range(15), pca1.explained_variance_ratio_)\n",
    "plt.plot(range(15), np.cumsum(pca1.explained_variance_ratio_))\n",
    "plt.title(\"Component-wise and Cumulative Explained Variance\")"
   ]
  },
  {
   "cell_type": "markdown",
   "id": "76785d02",
   "metadata": {},
   "source": [
    "The above graph shows the Component-wise Change Process as well as the Cumulative Explained Variance as distributed by PCA.\n",
    "Since this is for the original data and our data has a high variance, I should keep the entire PCA, so applying PCA has no effect. The full PCA is then applied to **Xworkdf_std**."
   ]
  },
  {
   "cell_type": "code",
   "execution_count": 22,
   "id": "827e7942",
   "metadata": {
    "scrolled": true
   },
   "outputs": [
    {
     "data": {
      "text/plain": [
       "array([[ 0.30412779, -1.48997024,  1.35606138, ..., -1.24203425,\n",
       "        -0.76665531, -1.5867558 ],\n",
       "       [ 0.11057513, -1.36674445,  1.26156772, ..., -1.10189256,\n",
       "        -0.77074636, -1.6724934 ],\n",
       "       [-0.33146405,  0.90311647, -0.62998836, ..., -1.36237741,\n",
       "        -0.68840589,  0.02025642],\n",
       "       ...,\n",
       "       [ 0.09096407,  1.74618006,  1.10333606, ...,  2.04202299,\n",
       "        -0.36794655,  0.1339286 ],\n",
       "       [-1.41582888,  2.5422434 ,  1.7629626 , ...,  2.56079023,\n",
       "         0.5068248 , -0.41824318],\n",
       "       [-0.35842851,  2.41962858,  1.53446196, ...,  1.28585867,\n",
       "        -0.49443335,  0.35116343]])"
      ]
     },
     "execution_count": 22,
     "metadata": {},
     "output_type": "execute_result"
    }
   ],
   "source": [
    "from sklearn.decomposition import PCA\n",
    "\n",
    "pca2 = PCA()\n",
    "pca2.fit_transform(Xworkdf_std)"
   ]
  },
  {
   "cell_type": "code",
   "execution_count": 23,
   "id": "622967f8",
   "metadata": {
    "scrolled": true
   },
   "outputs": [
    {
     "data": {
      "text/plain": [
       "array([<AxesSubplot:title={'center':'% Explained Variance'}, xlabel='Component'>,\n",
       "       <AxesSubplot:title={'center':'% Cumulative Variance'}, xlabel='Component'>],\n",
       "      dtype=object)"
      ]
     },
     "execution_count": 23,
     "metadata": {},
     "output_type": "execute_result"
    },
    {
     "data": {
      "image/png": "[encoded data removed]",
      "text/plain": [
       "<Figure size 800x400 with 2 Axes>"
      ]
     },
     "metadata": {
      "needs_background": "light"
     },
     "output_type": "display_data"
    }
   ],
   "source": [
    "# Look at explained variance\n",
    "def plot_variance(pca, width=8, dpi=100):\n",
    "    # Create figure\n",
    "    fig, axs = plt.subplots(1, 2)\n",
    "    n = pca.n_components_\n",
    "    grid = np.arange(1, n + 1)\n",
    "    # Explained variance\n",
    "    evr = pca.explained_variance_ratio_\n",
    "    axs[0].bar(grid, evr)\n",
    "    axs[0].set(\n",
    "        xlabel=\"Component\", title=\"% Explained Variance\", ylim=(0.0, 1.0)\n",
    "    )\n",
    "    # Cumulative Variance\n",
    "    cv = np.cumsum(evr)\n",
    "    axs[1].plot(np.r_[0, grid], np.r_[0, cv], \"o-\")\n",
    "    axs[1].set(\n",
    "        xlabel=\"Component\", title=\"% Cumulative Variance\", ylim=(0.0, 1.0)\n",
    "    )\n",
    "    # Set up figure\n",
    "    fig.set(figwidth=8, dpi=100)\n",
    "    return axs\n",
    "\n",
    "def make_mi_scores(X, y, discrete_features):\n",
    "    mi_scores = mutual_info_regression(X, y, discrete_features=discrete_features)\n",
    "    mi_scores = pd.Series(mi_scores, name=\"MI Scores\", index=X.columns)\n",
    "    mi_scores = mi_scores.sort_values(ascending=False)\n",
    "    return mi_scores\n",
    "plot_variance(pca2)"
   ]
  },
  {
   "cell_type": "markdown",
   "id": "e97cd786",
   "metadata": {},
   "source": [
    "I draw PCA graphs after applying it on *Xworkdf_std*. For example, in graphs *Explained Variance* and *Cumulative Variance*, the first 5 components of PCA cover nearly 40% of the variance of data, which is the 35% mentioned in the next question.\n",
    "PCA1 covers about 15% of the variance in the graph *Explained Variance*, and I can see a decrease in PCA. In order to reduce the variance, the importance of PCAs must be reduced(PCA1>PCA2>PCA3 ...)."
   ]
  },
  {
   "cell_type": "code",
   "execution_count": 24,
   "id": "4b26d535",
   "metadata": {
    "scrolled": true
   },
   "outputs": [
    {
     "data": {
      "text/plain": [
       "Text(0.5, 1.0, 'Component-wise and Cumulative Explained Variance')"
      ]
     },
     "execution_count": 24,
     "metadata": {},
     "output_type": "execute_result"
    },
    {
     "data": {
      "image/png": "[encoded data removed]",
      "text/plain": [
       "<Figure size 432x288 with 1 Axes>"
      ]
     },
     "metadata": {
      "needs_background": "light"
     },
     "output_type": "display_data"
    }
   ],
   "source": [
    "plt.plot(range(15), pca2.explained_variance_ratio_)\n",
    "plt.plot(range(15), np.cumsum(pca2.explained_variance_ratio_))\n",
    "plt.title(\"Component-wise and Cumulative Explained Variance\")"
   ]
  },
  {
   "cell_type": "markdown",
   "id": "e2d6603e",
   "metadata": {},
   "source": [
    "This graph shows that 4 PCA accounts for approximately 40% of the variance. In fact, this chart is a hybrid of the two above."
   ]
  },
  {
   "cell_type": "markdown",
   "id": "e241277e",
   "metadata": {},
   "source": [
    "Finally, I perform a full PCA on **Xworkd_mm**."
   ]
  },
  {
   "cell_type": "code",
   "execution_count": 25,
   "id": "968c1a15",
   "metadata": {
    "scrolled": true
   },
   "outputs": [
    {
     "data": {
      "text/plain": [
       "array([[-0.589126  , -0.40829855,  0.17906712, ...,  0.00686805,\n",
       "         0.03755687, -0.11272396],\n",
       "       [-0.55830119, -0.37298324,  0.27580071, ...,  0.01635513,\n",
       "         0.04014721, -0.113105  ],\n",
       "       [ 0.60203718, -0.47270134,  0.43204986, ..., -0.14014758,\n",
       "         0.09777576, -0.04269993],\n",
       "       ...,\n",
       "       [ 0.45189789,  0.47964653, -0.56987368, ...,  0.56609336,\n",
       "        -0.10674031,  0.06196393],\n",
       "       [ 0.47748061,  0.55176055, -0.4330435 , ...,  0.5802536 ,\n",
       "        -0.13017946,  0.06065914],\n",
       "       [ 0.45362821,  0.62413078, -0.3107465 , ...,  0.44739614,\n",
       "        -0.01981297,  0.06385427]])"
      ]
     },
     "execution_count": 25,
     "metadata": {},
     "output_type": "execute_result"
    }
   ],
   "source": [
    "from sklearn.decomposition import PCA\n",
    "pca3 = PCA()\n",
    "pca3.fit_transform(Xworkdf_mm)"
   ]
  },
  {
   "cell_type": "code",
   "execution_count": 26,
   "id": "30332fa5",
   "metadata": {
    "scrolled": true
   },
   "outputs": [
    {
     "data": {
      "text/plain": [
       "array([<AxesSubplot:title={'center':'% Explained Variance'}, xlabel='Component'>,\n",
       "       <AxesSubplot:title={'center':'% Cumulative Variance'}, xlabel='Component'>],\n",
       "      dtype=object)"
      ]
     },
     "execution_count": 26,
     "metadata": {},
     "output_type": "execute_result"
    },
    {
     "data": {
      "image/png": "[encoded data removed]",
      "text/plain": [
       "<Figure size 800x400 with 2 Axes>"
      ]
     },
     "metadata": {
      "needs_background": "light"
     },
     "output_type": "display_data"
    }
   ],
   "source": [
    "# Look at explained variance\n",
    "def plot_variance(pca, width=8, dpi=100):\n",
    "    # Create figure\n",
    "    fig, axs = plt.subplots(1, 2)\n",
    "    n = pca.n_components_\n",
    "    grid = np.arange(1, n + 1)\n",
    "    # Explained variance\n",
    "    evr = pca.explained_variance_ratio_\n",
    "    axs[0].bar(grid, evr)\n",
    "    axs[0].set(\n",
    "        xlabel=\"Component\", title=\"% Explained Variance\", ylim=(0.0, 1.0)\n",
    "    )\n",
    "    # Cumulative Variance\n",
    "    cv = np.cumsum(evr)\n",
    "    axs[1].plot(np.r_[0, grid], np.r_[0, cv], \"o-\")\n",
    "    axs[1].set(\n",
    "        xlabel=\"Component\", title=\"% Cumulative Variance\", ylim=(0.0, 1.0)\n",
    "    )\n",
    "    # Set up figure\n",
    "    fig.set(figwidth=8, dpi=100)\n",
    "    return axs\n",
    "\n",
    "def make_mi_scores(X, y, discrete_features):\n",
    "    mi_scores = mutual_info_regression(X, y, discrete_features=discrete_features)\n",
    "    mi_scores = pd.Series(mi_scores, name=\"MI Scores\", index=X.columns)\n",
    "    mi_scores = mi_scores.sort_values(ascending=False)\n",
    "    return mi_scores\n",
    "plot_variance(pca3)"
   ]
  },
  {
   "cell_type": "code",
   "execution_count": 27,
   "id": "97381e19",
   "metadata": {
    "scrolled": true
   },
   "outputs": [
    {
     "data": {
      "text/plain": [
       "Text(0.5, 1.0, 'Component-wise and Cumulative Explained Variance')"
      ]
     },
     "execution_count": 27,
     "metadata": {},
     "output_type": "execute_result"
    },
    {
     "data": {
      "image/png": "[encoded data removed]",
      "text/plain": [
       "<Figure size 432x288 with 1 Axes>"
      ]
     },
     "metadata": {
      "needs_background": "light"
     },
     "output_type": "display_data"
    }
   ],
   "source": [
    "plt.plot(range(15), pca3.explained_variance_ratio_)\n",
    "plt.plot(range(15), np.cumsum(pca3.explained_variance_ratio_))\n",
    "plt.title(\"Component-wise and Cumulative Explained Variance\")"
   ]
  },
  {
   "cell_type": "markdown",
   "id": "da9eb80c",
   "metadata": {},
   "source": [
    "PCA graphs are produced after being applied to *Xworkdf_mm*. I can see that the three graphs mentioned above resemble *Xworkdf_std*."
   ]
  },
  {
   "cell_type": "markdown",
   "id": "28c17e28",
   "metadata": {},
   "source": [
    "# Exercise 4 (Dimensionality Reduction and Interpretation of the PCs):"
   ]
  },
  {
   "cell_type": "markdown",
   "id": "ea86b68e",
   "metadata": {},
   "source": [
    "Now I apply the PCA with respect to the given condition(m>=3). \n",
    "As previously stated, up to three PCAs are sufficient to cover up to 35% of the variance. I used three PCAs on the datasets *Xworkdf_std* and *Xworkdf_mm*, and the results are shown in the tables.\n",
    "Then I draw the same three graphs for the whole data (*Explained Variance*, *Cumulative Variance*, and *Component-wise and Cumulative Explained Variance*), but this time for three PCAs, which show variance between 35 and 40%."
   ]
  },
  {
   "cell_type": "markdown",
   "id": "5001e838",
   "metadata": {},
   "source": [
    "**pca1: Explained Variance -Cumulative Variance**"
   ]
  },
  {
   "cell_type": "code",
   "execution_count": 28,
   "id": "8115a114",
   "metadata": {
    "scrolled": true
   },
   "outputs": [
    {
     "data": {
      "text/html": [
       "<div>\n",
       "<style scoped>\n",
       "    .dataframe tbody tr th:only-of-type {\n",
       "        vertical-align: middle;\n",
       "    }\n",
       "\n",
       "    .dataframe tbody tr th {\n",
       "        vertical-align: top;\n",
       "    }\n",
       "\n",
       "    .dataframe thead th {\n",
       "        text-align: right;\n",
       "    }\n",
       "</style>\n",
       "<table border=\"1\" class=\"dataframe\">\n",
       "  <thead>\n",
       "    <tr style=\"text-align: right;\">\n",
       "      <th></th>\n",
       "      <th>PC1</th>\n",
       "      <th>PC2</th>\n",
       "      <th>PC3</th>\n",
       "    </tr>\n",
       "  </thead>\n",
       "  <tbody>\n",
       "    <tr>\n",
       "      <th>0</th>\n",
       "      <td>-0.589128</td>\n",
       "      <td>-0.408283</td>\n",
       "      <td>0.179066</td>\n",
       "    </tr>\n",
       "    <tr>\n",
       "      <th>1</th>\n",
       "      <td>-0.558303</td>\n",
       "      <td>-0.372966</td>\n",
       "      <td>0.275800</td>\n",
       "    </tr>\n",
       "    <tr>\n",
       "      <th>2</th>\n",
       "      <td>0.602030</td>\n",
       "      <td>-0.472637</td>\n",
       "      <td>0.432044</td>\n",
       "    </tr>\n",
       "    <tr>\n",
       "      <th>3</th>\n",
       "      <td>0.197454</td>\n",
       "      <td>-0.483838</td>\n",
       "      <td>0.450159</td>\n",
       "    </tr>\n",
       "    <tr>\n",
       "      <th>4</th>\n",
       "      <td>0.578496</td>\n",
       "      <td>-0.471604</td>\n",
       "      <td>0.460438</td>\n",
       "    </tr>\n",
       "  </tbody>\n",
       "</table>\n",
       "</div>"
      ],
      "text/plain": [
       "        PC1       PC2       PC3\n",
       "0 -0.589128 -0.408283  0.179066\n",
       "1 -0.558303 -0.372966  0.275800\n",
       "2  0.602030 -0.472637  0.432044\n",
       "3  0.197454 -0.483838  0.450159\n",
       "4  0.578496 -0.471604  0.460438"
      ]
     },
     "execution_count": 28,
     "metadata": {},
     "output_type": "execute_result"
    }
   ],
   "source": [
    "# INITIALIZE THE PCA\n",
    "m = 3\n",
    "pca1 = PCA(n_components=m)\n",
    "\n",
    "# FIT THE PCA\n",
    "X1_pca=pca1.fit_transform(Xworkdf_mm)\n",
    "component_names = [f\"PC{i+1}\" for i in range(X1_pca.shape[1])]\n",
    "X1_pca = pd.DataFrame(X1_pca, columns=component_names)\n",
    "\n",
    "X1_pca.head()"
   ]
  },
  {
   "cell_type": "code",
   "execution_count": 29,
   "id": "a4b0f565",
   "metadata": {
    "scrolled": true
   },
   "outputs": [
    {
     "data": {
      "image/png": "[encoded data removed]",
      "text/plain": [
       "<Figure size 800x400 with 2 Axes>"
      ]
     },
     "metadata": {
      "needs_background": "light"
     },
     "output_type": "display_data"
    }
   ],
   "source": [
    "# Look at explained variance\n",
    "def plot_variance(pca, width=8, dpi=100):\n",
    "    # Create figure\n",
    "    fig, axs = plt.subplots(1, 2)\n",
    "    n = pca.n_components_\n",
    "    grid = np.arange(1, n + 1)\n",
    "    # Explained variance\n",
    "    # MAKE THE BARPLOT\n",
    "    evr = pca.explained_variance_ratio_\n",
    "    axs[0].bar(grid, evr)\n",
    "    axs[0].set(\n",
    "        xlabel=\"Component\", title=\"% Explained Variance\", ylim=(0.0, 1.0)\n",
    "    )\n",
    "    # Cumulative Variance\n",
    "    cv = np.cumsum(evr)\n",
    "    axs[1].plot(np.r_[0, grid], np.r_[0, cv], \"o-\")\n",
    "    axs[1].set(\n",
    "        xlabel=\"Component\", title=\"% Cumulative Variance\", ylim=(0.0, 1.0)\n",
    "    )\n",
    "    # Set up figure\n",
    "    fig.set(figwidth=8, dpi=100)\n",
    "    return axs\n",
    "\n",
    "def make_mi_scores(X, y, discrete_features):\n",
    "    mi_scores = mutual_info_regression(X, y, discrete_features=discrete_features)\n",
    "    mi_scores = pd.Series(mi_scores, name=\"MI Scores\", index=X.columns)\n",
    "    mi_scores = mi_scores.sort_values(ascending=False)\n",
    "    return mi_scores\n",
    "plot_variance(pca1);"
   ]
  },
  {
   "cell_type": "code",
   "execution_count": 30,
   "id": "4456a918",
   "metadata": {
    "scrolled": true
   },
   "outputs": [
    {
     "data": {
      "text/plain": [
       "Text(0.5, 1.0, 'Component-wise and Cumulative Explained Variance')"
      ]
     },
     "execution_count": 30,
     "metadata": {},
     "output_type": "execute_result"
    },
    {
     "data": {
      "image/png": "[encoded data removed]",
      "text/plain": [
       "<Figure size 432x288 with 1 Axes>"
      ]
     },
     "metadata": {
      "needs_background": "light"
     },
     "output_type": "display_data"
    }
   ],
   "source": [
    "plt.plot(range(3), pca1.explained_variance_ratio_)\n",
    "plt.plot(range(3), np.cumsum(pca1.explained_variance_ratio_))\n",
    "plt.title(\"Component-wise and Cumulative Explained Variance\")"
   ]
  },
  {
   "cell_type": "markdown",
   "id": "40bab02e",
   "metadata": {},
   "source": [
    "now I use it for the *Xworkdf_std*"
   ]
  },
  {
   "cell_type": "markdown",
   "id": "da8bbf06",
   "metadata": {},
   "source": [
    "**pca2: Explained Variance -Cumulative Variance**"
   ]
  },
  {
   "cell_type": "code",
   "execution_count": 31,
   "id": "8137500a",
   "metadata": {
    "scrolled": true
   },
   "outputs": [
    {
     "data": {
      "text/html": [
       "<div>\n",
       "<style scoped>\n",
       "    .dataframe tbody tr th:only-of-type {\n",
       "        vertical-align: middle;\n",
       "    }\n",
       "\n",
       "    .dataframe tbody tr th {\n",
       "        vertical-align: top;\n",
       "    }\n",
       "\n",
       "    .dataframe thead th {\n",
       "        text-align: right;\n",
       "    }\n",
       "</style>\n",
       "<table border=\"1\" class=\"dataframe\">\n",
       "  <thead>\n",
       "    <tr style=\"text-align: right;\">\n",
       "      <th></th>\n",
       "      <th>PC1</th>\n",
       "      <th>PC2</th>\n",
       "      <th>PC3</th>\n",
       "    </tr>\n",
       "  </thead>\n",
       "  <tbody>\n",
       "    <tr>\n",
       "      <th>0</th>\n",
       "      <td>0.297920</td>\n",
       "      <td>-1.515118</td>\n",
       "      <td>1.394712</td>\n",
       "    </tr>\n",
       "    <tr>\n",
       "      <th>1</th>\n",
       "      <td>0.102435</td>\n",
       "      <td>-1.393955</td>\n",
       "      <td>1.302839</td>\n",
       "    </tr>\n",
       "    <tr>\n",
       "      <th>2</th>\n",
       "      <td>-0.342363</td>\n",
       "      <td>0.897330</td>\n",
       "      <td>-0.623374</td>\n",
       "    </tr>\n",
       "    <tr>\n",
       "      <th>3</th>\n",
       "      <td>-0.339078</td>\n",
       "      <td>0.288112</td>\n",
       "      <td>-0.274431</td>\n",
       "    </tr>\n",
       "    <tr>\n",
       "      <th>4</th>\n",
       "      <td>-0.889377</td>\n",
       "      <td>0.820926</td>\n",
       "      <td>-0.363539</td>\n",
       "    </tr>\n",
       "  </tbody>\n",
       "</table>\n",
       "</div>"
      ],
      "text/plain": [
       "        PC1       PC2       PC3\n",
       "0  0.297920 -1.515118  1.394712\n",
       "1  0.102435 -1.393955  1.302839\n",
       "2 -0.342363  0.897330 -0.623374\n",
       "3 -0.339078  0.288112 -0.274431\n",
       "4 -0.889377  0.820926 -0.363539"
      ]
     },
     "execution_count": 31,
     "metadata": {},
     "output_type": "execute_result"
    }
   ],
   "source": [
    "pca2 = PCA(3)\n",
    "X2_pca=pca2.fit_transform(Xworkdf_std)\n",
    "component_names = [f\"PC{i+1}\" for i in range(X2_pca.shape[1])]\n",
    "X2_pca = pd.DataFrame(X2_pca, columns=component_names)\n",
    "\n",
    "X2_pca.head()"
   ]
  },
  {
   "cell_type": "code",
   "execution_count": 32,
   "id": "44529317",
   "metadata": {
    "scrolled": true
   },
   "outputs": [
    {
     "data": {
      "image/png": "[encoded data removed]",
      "text/plain": [
       "<Figure size 800x400 with 2 Axes>"
      ]
     },
     "metadata": {
      "needs_background": "light"
     },
     "output_type": "display_data"
    }
   ],
   "source": [
    "# Look at explained variance\n",
    "def plot_variance(pca, width=8, dpi=100):\n",
    "    # Create figure\n",
    "    fig, axs = plt.subplots(1, 2)\n",
    "    n = pca.n_components_\n",
    "    grid = np.arange(1, n + 1)\n",
    "    # Explained variance\n",
    "    evr = pca.explained_variance_ratio_\n",
    "    axs[0].bar(grid, evr)\n",
    "    axs[0].set(\n",
    "        xlabel=\"Component\", title=\"% Explained Variance\", ylim=(0.0, 1.0)\n",
    "    )\n",
    "    # Cumulative Variance\n",
    "    cv = np.cumsum(evr)\n",
    "    axs[1].plot(np.r_[0, grid], np.r_[0, cv], \"o-\")\n",
    "    axs[1].set(\n",
    "        xlabel=\"Component\", title=\"% Cumulative Variance\", ylim=(0.0, 1.0)\n",
    "    )\n",
    "    # Set up figure\n",
    "    fig.set(figwidth=8, dpi=100)\n",
    "    return axs\n",
    "\n",
    "def make_mi_scores(X, y, discrete_features):\n",
    "    mi_scores = mutual_info_regression(X, y, discrete_features=discrete_features)\n",
    "    mi_scores = pd.Series(mi_scores, name=\"MI Scores\", index=X.columns)\n",
    "    mi_scores = mi_scores.sort_values(ascending=False)\n",
    "    return mi_scores\n",
    "plot_variance(pca2);"
   ]
  },
  {
   "cell_type": "code",
   "execution_count": 33,
   "id": "9f0a5b99",
   "metadata": {
    "scrolled": false
   },
   "outputs": [
    {
     "data": {
      "text/plain": [
       "Text(0.5, 1.0, 'Component-wise and Cumulative Explained Variance')"
      ]
     },
     "execution_count": 33,
     "metadata": {},
     "output_type": "execute_result"
    },
    {
     "data": {
      "image/png": "[encoded data removed]",
      "text/plain": [
       "<Figure size 432x288 with 1 Axes>"
      ]
     },
     "metadata": {
      "needs_background": "light"
     },
     "output_type": "display_data"
    }
   ],
   "source": [
    "plt.plot(range(3), pca2.explained_variance_ratio_)\n",
    "plt.plot(range(3), np.cumsum(pca2.explained_variance_ratio_))\n",
    "plt.title(\"Component-wise and Cumulative Explained Variance\")"
   ]
  },
  {
   "cell_type": "markdown",
   "id": "ed2d1f77",
   "metadata": {},
   "source": [
    "With respect to the given plots and tables I can see that first three PCA's are sufficient for covering the 35% of total variance."
   ]
  },
  {
   "cell_type": "markdown",
   "id": "50ee3c43",
   "metadata": {},
   "source": [
    "# Exercise 5 (k-Means): "
   ]
  },
  {
   "cell_type": "markdown",
   "id": "3db059a4",
   "metadata": {},
   "source": [
    "I apply the \"PC-space\" to the two DFs and run the k-Means algorithm on them. I want to use the silhouette coefficient to choose the optimal value for $k ∈ {3, . . . , 10} ⊂ N$."
   ]
  },
  {
   "cell_type": "markdown",
   "id": "9ff41d39",
   "metadata": {},
   "source": [
    "therefore, I apply the k-means for the *Xworkdf_mm* with the given PC-space above which is *X1_pca*"
   ]
  },
  {
   "cell_type": "code",
   "execution_count": 34,
   "id": "bc599940",
   "metadata": {
    "scrolled": true
   },
   "outputs": [
    {
     "data": {
      "text/plain": [
       "KMeans(n_clusters=2, random_state=0)"
      ]
     },
     "execution_count": 34,
     "metadata": {},
     "output_type": "execute_result"
    }
   ],
   "source": [
    "from sklearn.cluster import KMeans\n",
    "\n",
    "kmeans = KMeans(n_clusters=2, random_state=0) \n",
    "kmeans.fit(X1_pca)"
   ]
  },
  {
   "cell_type": "code",
   "execution_count": 35,
   "id": "a9d0185f",
   "metadata": {
    "scrolled": true
   },
   "outputs": [
    {
     "data": {
      "text/plain": [
       "array([[-0.28282929, -0.0090181 ,  0.01234155],\n",
       "       [ 0.37649448,  0.01200464, -0.01642873]])"
      ]
     },
     "execution_count": 35,
     "metadata": {},
     "output_type": "execute_result"
    }
   ],
   "source": [
    "kmeans.cluster_centers_"
   ]
  },
  {
   "cell_type": "markdown",
   "id": "0a868ef5",
   "metadata": {},
   "source": [
    "In cluster analysis, the **Elbow Method** is a heuristic used in determining the number of clusters in a data set. The method consists of plotting the explained variation as a function of the number of clusters and picking the elbow of the curve as the number of clusters to use. The same method can be used to choose the number of parameters in other data-driven models, such as the number of principal components to describe a data set.\n",
    "\n",
    "I use the Elbow method to find out the best possible number of clusters."
   ]
  },
  {
   "cell_type": "code",
   "execution_count": 36,
   "id": "482168d1",
   "metadata": {
    "scrolled": true
   },
   "outputs": [
    {
     "data": {
      "image/png": "[encoded data removed]",
      "text/plain": [
       "<Figure size 432x288 with 1 Axes>"
      ]
     },
     "metadata": {
      "needs_background": "light"
     },
     "output_type": "display_data"
    }
   ],
   "source": [
    "cs = []\n",
    "for i in range(1, 11):\n",
    "    kmeans = KMeans(n_clusters = i, init = 'k-means++', max_iter = 300, n_init = 10, random_state = 0)\n",
    "    kmeans.fit(X1_pca)\n",
    "    cs.append(kmeans.inertia_)\n",
    "plt.plot(range(1, 11), cs)\n",
    "plt.title('The Elbow Method')\n",
    "plt.xlabel('Number of clusters')\n",
    "plt.ylabel('CS')\n",
    "plt.show()"
   ]
  },
  {
   "cell_type": "markdown",
   "id": "45357236",
   "metadata": {},
   "source": [
    "**Silhouette Coefficient:** is calculated using the mean intra-cluster distance $(a)$ and the mean nearest-cluster distance $(b)$ for each sample. The Silhouette Coefficient for a sample is defined as the below formula. To clarify, $b$ is the distance between a sample and the nearest cluster that the sample is not a part of. Note that Silhouette Coefficient is only defined if number of labels is $2 <= n_{labels} <= n_{samples} - 1$. \n",
    "\n",
    "The best value is 1 and the worst value is $-1$. Values near $0$ indicate overlapping clusters. Negative values generally indicate that a sample has been assigned to the wrong cluster, as a different cluster is more similar.\n",
    "\n",
    "for each $x ∈ S$, s.t. $x ∈ V_i$, it is defined\n",
    "\n",
    "$$\n",
    "s(x):=\\frac{b(x)-a(x)}{max\\{a(x),b(x)\\}}\\ \n",
    "$$"
   ]
  },
  {
   "cell_type": "code",
   "execution_count": 37,
   "id": "fde2b954",
   "metadata": {
    "scrolled": true
   },
   "outputs": [],
   "source": [
    "from sklearn.metrics import silhouette_score\n",
    "silhoutte_coefficient=[]\n",
    "kmeans_set={\"init\":\"random\",\"n_init\":10,\"max_iter\":300,\"random_state\":42}"
   ]
  },
  {
   "cell_type": "code",
   "execution_count": 38,
   "id": "e06287ef",
   "metadata": {
    "scrolled": true
   },
   "outputs": [],
   "source": [
    "for k in range (2,11):\n",
    "        kmeans=KMeans(n_clusters=k,**kmeans_set)\n",
    "        kmeans.fit(X1_pca)\n",
    "        score=silhouette_score(X1_pca,kmeans.labels_)\n",
    "        silhoutte_coefficient.append(score)"
   ]
  },
  {
   "cell_type": "code",
   "execution_count": 39,
   "id": "58d403af",
   "metadata": {
    "scrolled": false
   },
   "outputs": [
    {
     "data": {
      "image/png": "[encoded data removed]",
      "text/plain": [
       "<Figure size 432x288 with 1 Axes>"
      ]
     },
     "metadata": {},
     "output_type": "display_data"
    }
   ],
   "source": [
    "plt.style.use(\"fivethirtyeight\")\n",
    "plt.plot(range(2,11),silhoutte_coefficient)\n",
    "plt.xticks(range(2,11))\n",
    "plt.xlabel(\"Number of Cluster\")\n",
    "plt.ylabel(\"silhoutte_coefficients\")\n",
    "plt.show()"
   ]
  },
  {
   "cell_type": "markdown",
   "id": "e2d997da",
   "metadata": {},
   "source": [
    "According to the Elbow technique graphic, four clusters are the ideal number to use when clustering my data. According to the silhouette method The question is about selecting the ideal number of clusters, which might be either 4 or 6. Since the Elbow approach chose 4 as the ideal number, I also take the answer 4 into consideration for silhouette."
   ]
  },
  {
   "cell_type": "markdown",
   "id": "04d0d242",
   "metadata": {},
   "source": [
    "In the next step, I apply the exact same functions for the second dataset.(*Xworkdf_std*)"
   ]
  },
  {
   "cell_type": "code",
   "execution_count": 40,
   "id": "94a73b80",
   "metadata": {
    "scrolled": true
   },
   "outputs": [
    {
     "data": {
      "text/plain": [
       "KMeans(n_clusters=2, random_state=0)"
      ]
     },
     "execution_count": 40,
     "metadata": {},
     "output_type": "execute_result"
    }
   ],
   "source": [
    "from sklearn.cluster import KMeans\n",
    "kmeans = KMeans(n_clusters=2, random_state=0) \n",
    "kmeans.fit(X2_pca)"
   ]
  },
  {
   "cell_type": "code",
   "execution_count": 41,
   "id": "c052cbb8",
   "metadata": {
    "scrolled": true
   },
   "outputs": [
    {
     "data": {
      "text/plain": [
       "array([[-0.89289194,  0.74163719,  0.01163123],\n",
       "       [ 0.69456188, -0.57690399, -0.00904769]])"
      ]
     },
     "execution_count": 41,
     "metadata": {},
     "output_type": "execute_result"
    }
   ],
   "source": [
    "kmeans.cluster_centers_"
   ]
  },
  {
   "cell_type": "code",
   "execution_count": 42,
   "id": "f1748322",
   "metadata": {
    "scrolled": true
   },
   "outputs": [
    {
     "data": {
      "image/png": "[encoded data removed]",
      "text/plain": [
       "<Figure size 432x288 with 1 Axes>"
      ]
     },
     "metadata": {},
     "output_type": "display_data"
    }
   ],
   "source": [
    "# I use the Elbow method to find out the best possible number of clusters\n",
    "\n",
    "from sklearn.cluster import KMeans\n",
    "cs = []\n",
    "for i in range(1, 11):\n",
    "    kmeans = KMeans(n_clusters = i, init = 'k-means++', max_iter = 300, n_init = 10, random_state = 0)\n",
    "    kmeans.fit(X2_pca)\n",
    "    cs.append(kmeans.inertia_)\n",
    "plt.plot(range(1, 11), cs)\n",
    "plt.title('The Elbow Method')\n",
    "plt.xlabel('Number of clusters')\n",
    "plt.ylabel('CS')\n",
    "plt.show()"
   ]
  },
  {
   "cell_type": "code",
   "execution_count": 43,
   "id": "f07b6d32",
   "metadata": {
    "scrolled": true
   },
   "outputs": [],
   "source": [
    "from sklearn.metrics import silhouette_score\n",
    "\n",
    "silhoutte_coefficient=[]\n",
    "kmeans_set={\"init\":\"random\",\"n_init\":10,\"max_iter\":300,\"random_state\":42}"
   ]
  },
  {
   "cell_type": "code",
   "execution_count": 44,
   "id": "4d15b5d6",
   "metadata": {
    "scrolled": true
   },
   "outputs": [],
   "source": [
    "for k in range (2,11):\n",
    "        kmeans=KMeans(n_clusters=k,**kmeans_set)\n",
    "        kmeans.fit(X2_pca)\n",
    "        score=silhouette_score(X2_pca,kmeans.labels_)\n",
    "        silhoutte_coefficient.append(score)"
   ]
  },
  {
   "cell_type": "code",
   "execution_count": 45,
   "id": "ef73b54e",
   "metadata": {
    "scrolled": true
   },
   "outputs": [
    {
     "data": {
      "image/png": "[encoded data removed]",
      "text/plain": [
       "<Figure size 432x288 with 1 Axes>"
      ]
     },
     "metadata": {},
     "output_type": "display_data"
    }
   ],
   "source": [
    "plt.style.use(\"fivethirtyeight\")\n",
    "plt.plot(range(2,11),silhoutte_coefficient)\n",
    "plt.xticks(range(2,11))\n",
    "plt.xlabel(\"Number of Cluster\")\n",
    "plt.ylabel(\"silhoutte_coefficients\")\n",
    "plt.show()"
   ]
  },
  {
   "cell_type": "markdown",
   "id": "392097f0",
   "metadata": {},
   "source": [
    "For the second dataset, I checked the number of clusters once more, and in this case, 4 is a good choice because it has a high coefficient. Therefore, I choose to separate it into 4 clusters."
   ]
  },
  {
   "cell_type": "markdown",
   "id": "b86c9aff",
   "metadata": {},
   "source": [
    "# Exercise 6 (Clusters and Centroid Interpretation and Visualization):"
   ]
  },
  {
   "cell_type": "markdown",
   "id": "4c38af44",
   "metadata": {},
   "source": [
    "On the first dataset *Xworkdf_mm*, I cluster the data. We will take into account PC1 and PC2 and input their values into x1 in accordance with the identical PCAs that we have already specified. Kmeans are called, and X1 is fit. In order to display centroid 1 in the diagram later, we also divide the centroids using the kmeans algorithm. I create the plot. "
   ]
  },
  {
   "cell_type": "code",
   "execution_count": 46,
   "id": "d0c4ad39",
   "metadata": {
    "scrolled": true
   },
   "outputs": [],
   "source": [
    "X1=X1_pca"
   ]
  },
  {
   "cell_type": "code",
   "execution_count": 47,
   "id": "d0a1055c",
   "metadata": {
    "scrolled": true
   },
   "outputs": [],
   "source": [
    "X1 = X1[['PC1','PC2']].iloc[: , :].values\n"
   ]
  },
  {
   "cell_type": "code",
   "execution_count": 48,
   "id": "e218b607",
   "metadata": {
    "scrolled": true
   },
   "outputs": [],
   "source": [
    "algorithm = (KMeans(n_clusters = 4 ,init='k-means++', n_init = 10 ,max_iter=300, \n",
    "                        tol=0.0001,  random_state= 111  , algorithm='elkan') )\n",
    "algorithm.fit(X1)\n",
    "labels1 = algorithm.labels_\n",
    "centroids1 = algorithm.cluster_centers_"
   ]
  },
  {
   "cell_type": "code",
   "execution_count": 49,
   "id": "a0a575e1",
   "metadata": {
    "scrolled": true
   },
   "outputs": [
    {
     "data": {
      "text/plain": [
       "(13663,)"
      ]
     },
     "execution_count": 49,
     "metadata": {},
     "output_type": "execute_result"
    }
   ],
   "source": [
    "labels1.shape"
   ]
  },
  {
   "cell_type": "code",
   "execution_count": 50,
   "id": "0a361a89",
   "metadata": {
    "scrolled": true
   },
   "outputs": [],
   "source": [
    "h = 0.02\n",
    "x_min, x_max = X1[:, 0].min() - 1, X1[:, 0].max() + 1\n",
    "y_min, y_max = X1[:, 1].min() - 1, X1[:, 1].max() + 1\n",
    "xx, yy = np.meshgrid(np.arange(x_min, x_max, h), np.arange(y_min, y_max, h))\n",
    "Z = algorithm.predict(np.c_[xx.ravel(), yy.ravel()])"
   ]
  },
  {
   "cell_type": "code",
   "execution_count": 51,
   "id": "3337c405",
   "metadata": {
    "scrolled": false
   },
   "outputs": [
    {
     "data": {
      "image/png": "[encoded data removed]",
      "text/plain": [
       "<Figure size 1080x504 with 1 Axes>"
      ]
     },
     "metadata": {},
     "output_type": "display_data"
    }
   ],
   "source": [
    "plt.figure(1 , figsize = (15 , 7))\n",
    "plt.clf()\n",
    "Z = Z.reshape(xx.shape)\n",
    "plt.imshow(Z , interpolation='nearest', \n",
    "           extent=(xx.min(), xx.max(), yy.min(), yy.max()),\n",
    "           cmap = plt.cm.Pastel2, aspect = 'auto', origin='lower')\n",
    "\n",
    "plt.scatter( x = 'PC1', y = 'PC2', data = X1_pca, c = labels1, s = 100)\n",
    "plt.scatter(x = centroids1[: , 0] , y =  centroids1[: , 1] , s = 300 , c = 'red' , alpha = 0.5)\n",
    "plt.ylabel('PC1') , plt.xlabel('PC2')\n",
    "plt.show()\n"
   ]
  },
  {
   "cell_type": "markdown",
   "id": "26239648",
   "metadata": {},
   "source": [
    "For the second dataset *Xworkdf_std*, I use the same procedure."
   ]
  },
  {
   "cell_type": "code",
   "execution_count": 52,
   "id": "d7183820",
   "metadata": {
    "scrolled": true
   },
   "outputs": [],
   "source": [
    "X2=X2_pca"
   ]
  },
  {
   "cell_type": "code",
   "execution_count": 53,
   "id": "4af632a1",
   "metadata": {
    "scrolled": true
   },
   "outputs": [],
   "source": [
    "X2 = X2[['PC1','PC2']].iloc[: , :].values\n"
   ]
  },
  {
   "cell_type": "code",
   "execution_count": 54,
   "id": "950effab",
   "metadata": {
    "scrolled": true
   },
   "outputs": [],
   "source": [
    "algorithm = (KMeans(n_clusters = 4 ,init='k-means++', n_init = 10 ,max_iter=300, \n",
    "                        tol=0.0001,  random_state= 111  , algorithm='elkan') )\n",
    "algorithm.fit(X2)\n",
    "labels1 = algorithm.labels_\n",
    "centroids1 = algorithm.cluster_centers_"
   ]
  },
  {
   "cell_type": "code",
   "execution_count": 55,
   "id": "f6700e33",
   "metadata": {
    "scrolled": true
   },
   "outputs": [
    {
     "data": {
      "text/plain": [
       "(13663,)"
      ]
     },
     "execution_count": 55,
     "metadata": {},
     "output_type": "execute_result"
    }
   ],
   "source": [
    "labels1.shape"
   ]
  },
  {
   "cell_type": "code",
   "execution_count": 56,
   "id": "3535bce7",
   "metadata": {
    "scrolled": true
   },
   "outputs": [],
   "source": [
    "h = 0.02\n",
    "x_min, x_max = X2[:, 0].min() - 1, X2[:, 0].max() + 1\n",
    "y_min, y_max = X2[:, 1].min() - 1, X2[:, 1].max() + 1\n",
    "xx, yy = np.meshgrid(np.arange(x_min, x_max, h), np.arange(y_min, y_max, h))\n",
    "Z = algorithm.predict(np.c_[xx.ravel(), yy.ravel()])"
   ]
  },
  {
   "cell_type": "code",
   "execution_count": 57,
   "id": "54466d31",
   "metadata": {
    "scrolled": true
   },
   "outputs": [
    {
     "data": {
      "image/png": "[encoded data removed]",
      "text/plain": [
       "<Figure size 1080x504 with 1 Axes>"
      ]
     },
     "metadata": {},
     "output_type": "display_data"
    }
   ],
   "source": [
    "plt.figure(1 , figsize = (15 , 7) )\n",
    "plt.clf()\n",
    "Z = Z.reshape(xx.shape)\n",
    "plt.imshow(Z , interpolation='nearest', \n",
    "           extent=(xx.min(), xx.max(), yy.min(), yy.max()),\n",
    "           cmap = plt.cm.Pastel2, aspect = 'auto', origin='lower')\n",
    "\n",
    "plt.scatter( x = 'PC1', y = 'PC2', data = X2_pca, c = labels1, s = 100)\n",
    "plt.scatter(x = centroids1[: , 0] , y =  centroids1[: , 1] , s = 300 , c = 'red' , alpha = 0.5)\n",
    "plt.ylabel('PC1') , plt.xlabel('PC2')\n",
    "plt.show()\n"
   ]
  },
  {
   "cell_type": "markdown",
   "id": "f7e56722",
   "metadata": {},
   "source": [
    "#  Exercise 7 - Optional (Clusters and Centroids Evaluation)"
   ]
  },
  {
   "cell_type": "markdown",
   "id": "491a7c19",
   "metadata": {},
   "source": [
    "Since there is no \"concrete\" aim, it is particularly difficult to evaluate the results of a clustering process. There are typically two major methods:\n",
    "\n",
    "   1.**External evaluation:** if the data are labeled, the final clusters are analyzed with respect to the labels of the data inside them.\n",
    "   \n",
    "   **calinski_harabasz_score:** The score is defined as ratio of the sum of between the within-cluster dispersion and the between-cluster dispersion for all clusters.\n",
    "\n",
    "If the ground truth labels are not known which is our case , the Calinski-Harabasz index (sklearn.metrics.calinski_harabasz_score) - also known as the Variance Ratio Criterion - can be used to evaluate the model, where a higher Calinski-Harabasz score relates to a model with better defined clusters.\n",
    "   \n",
    "   2.**Internal evaluation:**  These methods measure how much the clustering result produces clusters with high similarity within each cluster and low similarity between clusters.\n",
    "\n",
    "Some of the most used internal evaluation methods for clustering are:\n",
    "\n",
    "**Davies-Bouldin index:**\n",
    "\n",
    "$$\n",
    "\\boldsymbol{DB} := \\frac{\\boldsymbol{1}}{\\boldsymbol{k}} \\sum_{i=1}^{k} max_{j\\ne i} \\frac{\\boldsymbol{{d}_{v_i}^{avg}} + \\boldsymbol{{d}_{v_j}^{avg}}}{\\boldsymbol{|| w_i,w_j ||}}\n",
    "$$\n",
    "\n",
    "where k is the number of clusters, $w_i$ is the centroid of cluster $i$, $\\boldsymbol{{d}_{v_i}^{avg}}$ is the average distance of all elements in cluster $i$ to centroid $w_i$ and $\\boldsymbol{|| w_i,w_j ||}$ is the distance between centroids $w_i$ and $w_j$ Since algorithms that produce clusters with low intra-cluster distances (high intra-cluster similarity) and high inter-cluster distances (low inter-cluster similarity) will have a low *Davies–Bouldin index*, the clustering algorithm that produces a collection of clusters with the smallest *Davies-Bouldin index* is considered the best algorithm based on this criterion.\n",
    "\n",
    "If the ground truth labels are not known, the Davies-Bouldin index (sklearn.metrics.davies_bouldin_score) can be used to evaluate the model, where a lower Davies-Bouldin index relates to a model with better separation between the clusters.\n",
    "\n",
    "This index signifies the average ‘similarity’ between clusters, where the similarity is a measure that compares the distance between clusters with the size of the clusters themselves.\n",
    "\n",
    "Zero is the lowest possible score. Values closer to zero indicate a better partition.\n",
    "\n",
    "\n",
    "**Silhouette Coefficient:** is calculated using the mean intra-cluster distance $(a)$ and the mean nearest-cluster distance $(b)$ for each sample. The Silhouette Coefficient for a sample is defined as the below formula. To clarify, $b$ is the distance between a sample and the nearest cluster that the sample is not a part of. Note that Silhouette Coefficient is only defined if number of labels is $2 <= n_{labels} <= n_{samples} - 1$. \n",
    "\n",
    "The best value is 1 and the worst value is $-1$. Values near $0$ indicate overlapping clusters. Negative values generally indicate that a sample has been assigned to the wrong cluster, as a different cluster is more similar.\n",
    "\n",
    "for each $x ∈ S$, s.t. $x ∈ V_i$, it is defined\n",
    "\n",
    "$$\n",
    "s(x):=\\frac{b(x)-a(x)}{max\\{a(x),b(x)\\}}\\ \n",
    "$$"
   ]
  },
  {
   "cell_type": "code",
   "execution_count": 58,
   "id": "9a837af6",
   "metadata": {
    "scrolled": true
   },
   "outputs": [],
   "source": [
    "from sklearn.metrics import calinski_harabasz_score\n",
    "from sklearn.metrics import davies_bouldin_score"
   ]
  },
  {
   "cell_type": "markdown",
   "id": "54fa2edb",
   "metadata": {},
   "source": [
    "I apply them on the first dataset which is Xworkdf_mm"
   ]
  },
  {
   "cell_type": "code",
   "execution_count": 59,
   "id": "71e61b9a",
   "metadata": {
    "scrolled": true
   },
   "outputs": [],
   "source": [
    "for k in range (2,11):\n",
    "        kmeans=KMeans(n_clusters=k,**kmeans_set)\n",
    "        kmeans.fit(X1_pca)"
   ]
  },
  {
   "cell_type": "code",
   "execution_count": 60,
   "id": "5f769eaa",
   "metadata": {
    "scrolled": true
   },
   "outputs": [],
   "source": [
    "calinski_harabasz_coefficient=[]\n",
    "score=calinski_harabasz_score(X1_pca,kmeans.labels_)\n",
    "calinski_harabasz_coefficient.append(score)"
   ]
  },
  {
   "cell_type": "code",
   "execution_count": 61,
   "id": "f4cf0add",
   "metadata": {
    "scrolled": true
   },
   "outputs": [],
   "source": [
    "results = {}\n",
    "# calculate the number of clusters according to the Calinski-Harabasz Index\n",
    "for i in range(2,11):\n",
    "    kmeans = KMeans(n_clusters=i, **kmeans_set)\n",
    "    labels = kmeans.fit_predict(X1_pca)\n",
    "    db_index = calinski_harabasz_score(X1_pca,kmeans.labels_)\n",
    "    results.update({i: db_index})"
   ]
  },
  {
   "cell_type": "code",
   "execution_count": 62,
   "id": "17e2ed9a",
   "metadata": {
    "scrolled": true
   },
   "outputs": [
    {
     "data": {
      "image/png": "[encoded data removed]",
      "text/plain": [
       "<Figure size 432x288 with 1 Axes>"
      ]
     },
     "metadata": {},
     "output_type": "display_data"
    }
   ],
   "source": [
    "plt.plot(list(results.keys()), list(results.values()))\n",
    "plt.xlabel(\"Number of clusters\")\n",
    "plt.ylabel(\"Calinski-Harabasz Index\")\n",
    "plt.show()"
   ]
  },
  {
   "cell_type": "code",
   "execution_count": 63,
   "id": "b3431f1d",
   "metadata": {
    "scrolled": true
   },
   "outputs": [],
   "source": [
    "results = {}\n",
    "# calculate the number of clusters according to davies_bouldin_score\n",
    "for i in range(2,11):\n",
    "    kmeans = KMeans(n_clusters=i, **kmeans_set)\n",
    "    labels = kmeans.fit_predict(X1_pca)\n",
    "    db_index = davies_bouldin_score(X1_pca,kmeans.labels_)\n",
    "    results.update({i: db_index})"
   ]
  },
  {
   "cell_type": "code",
   "execution_count": 64,
   "id": "0a36e6b0",
   "metadata": {
    "scrolled": true
   },
   "outputs": [
    {
     "data": {
      "image/png": "[encoded data removed]",
      "text/plain": [
       "<Figure size 432x288 with 1 Axes>"
      ]
     },
     "metadata": {},
     "output_type": "display_data"
    }
   ],
   "source": [
    "plt.plot(list(results.keys()), list(results.values()))\n",
    "plt.xlabel(\"Number of clusters\")\n",
    "plt.ylabel(\"davies_bouldin_score\")\n",
    "plt.show()"
   ]
  },
  {
   "cell_type": "markdown",
   "id": "1bd4b6c3",
   "metadata": {},
   "source": [
    "As can be seen, the calinski harabasz score for clusters 4,5 and 6 is appropriate for this dataset. Additionally, The  Davies_Bouldin_score has the minimal score, which is the best situation, is for 6 clusters.\n",
    "\n",
    "I have to choose between having 4 or 6 clusters, so maybe choosing n = 5 will give me the best results for both the Davis and the Calinski methods, then I applied them on *Xworkdf_std*."
   ]
  },
  {
   "cell_type": "code",
   "execution_count": 65,
   "id": "594fae3c",
   "metadata": {
    "scrolled": true
   },
   "outputs": [],
   "source": [
    "for k in range (2,11):\n",
    "        kmeans=KMeans(n_clusters=k,**kmeans_set)\n",
    "        kmeans.fit(X2_pca)\n",
    "        "
   ]
  },
  {
   "cell_type": "code",
   "execution_count": 66,
   "id": "43b840a9",
   "metadata": {
    "scrolled": true
   },
   "outputs": [],
   "source": [
    "calinski_harabasz_coefficient=[]\n",
    "score=calinski_harabasz_score(X2_pca,kmeans.labels_)\n",
    "calinski_harabasz_coefficient.append(score)\n"
   ]
  },
  {
   "cell_type": "code",
   "execution_count": 67,
   "id": "231ee3f6",
   "metadata": {
    "scrolled": true
   },
   "outputs": [],
   "source": [
    "results = {}\n",
    "# calculate the number of clusters according to the Calinski-Harabasz Index\n",
    "for i in range(2,11):\n",
    "    kmeans = KMeans(n_clusters=i, **kmeans_set)\n",
    "    labels = kmeans.fit_predict(X2_pca)\n",
    "    db_index = calinski_harabasz_score(X2_pca,kmeans.labels_)\n",
    "    results.update({i: db_index})"
   ]
  },
  {
   "cell_type": "code",
   "execution_count": 68,
   "id": "d2d1f319",
   "metadata": {
    "scrolled": false
   },
   "outputs": [
    {
     "data": {
      "image/png": "[encoded data removed]",
      "text/plain": [
       "<Figure size 432x288 with 1 Axes>"
      ]
     },
     "metadata": {},
     "output_type": "display_data"
    }
   ],
   "source": [
    "plt.plot(list(results.keys()), list(results.values()))\n",
    "plt.xlabel(\"Number of clusters\")\n",
    "plt.ylabel(\"Calinski-Harabasz Index\")\n",
    "plt.show()"
   ]
  },
  {
   "cell_type": "code",
   "execution_count": 69,
   "id": "98f16b4c",
   "metadata": {
    "scrolled": true
   },
   "outputs": [],
   "source": [
    "results = {}\n",
    "# calculate the number of clusters according to davies_bouldin_score\n",
    "for i in range(2,11):\n",
    "    kmeans = KMeans(n_clusters=i, **kmeans_set)\n",
    "    labels = kmeans.fit_predict(X2_pca)\n",
    "    db_index = davies_bouldin_score(X2_pca,kmeans.labels_)\n",
    "    results.update({i: db_index})"
   ]
  },
  {
   "cell_type": "code",
   "execution_count": 70,
   "id": "979b546b",
   "metadata": {
    "scrolled": false
   },
   "outputs": [
    {
     "data": {
      "image/png": "[encoded data removed]",
      "text/plain": [
       "<Figure size 432x288 with 1 Axes>"
      ]
     },
     "metadata": {},
     "output_type": "display_data"
    }
   ],
   "source": [
    "plt.plot(list(results.keys()), list(results.values()))\n",
    "plt.xlabel(\"Number of clusters\")\n",
    "plt.ylabel(\"davies_bouldin_score\")\n",
    "plt.show()"
   ]
  },
  {
   "cell_type": "markdown",
   "id": "52c6bad6",
   "metadata": {},
   "source": [
    "I look at how their scores can be adjusted using the two functions I have. One Davies Bouldins and one Calinski Harabasz.\n",
    "With Davies Bouldins, I created the graphs, and I can see that there are 4 clusters, which is a good quantity for me.\n",
    "I observe that the number 6 is a decent number of clusters for Calinski Harabasz, however the number 4 is also suitable."
   ]
  }
 ],
 "metadata": {
  "kernelspec": {
   "display_name": "Python 3 (ipykernel)",
   "language": "python",
   "name": "python3"
  },
  "language_info": {
   "codemirror_mode": {
    "name": "ipython",
    "version": 3
   },
   "file_extension": ".py",
   "mimetype": "text/x-python",
   "name": "python",
   "nbconvert_exporter": "python",
   "pygments_lexer": "ipython3",
   "version": "3.7.0"
  }
 },
 "nbformat": 4,
 "nbformat_minor": 5
}
